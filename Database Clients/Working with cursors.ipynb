{
 "cells": [
  {
   "cell_type": "markdown",
   "id": "bb10e396",
   "metadata": {},
   "source": [
    "### Working w/Cursors\n",
    "\n",
    "`Learning objectives:`\n",
    "* Create a cursor object\n",
    "* Use a cursor object to make use of a MySQL database using Python\n",
    "\n",
    "\n",
    "#### Scenario:\n",
    "\n",
    "Little Lemon needs to perform some basic tasks on its databases such as setting up the database and checking the names of the tables in the database. For this purpose, they have established a connection with the MySQL database using Python. In order to perform a task they need to communicate with the database.\n",
    "\n",
    "You are tasked to help Little Lemon set up their database in use and confirm the existence of tables to perform tasks. This needs to happen according to their requirements in their Python-based application."
   ]
  },
  {
   "cell_type": "markdown",
   "id": "50d6e4a6",
   "metadata": {},
   "source": [
    "#### **Task 1**\n",
    "Little Lemon need to know what tables currently exist in the database. You need to help them retrieve the names of all the existing tables in their database.\n",
    "\n",
    "* To access the names of the existing tables in the Little Lemon database, set the database little_lemon in use. \n",
    "* Then, create a cursor object and execute SHOW TABLES to retrieve the names of the tables in the database. \n",
    "* Fetch all the names in a variable and use the for loop to print the output.   "
   ]
  },
  {
   "cell_type": "code",
   "execution_count": 24,
   "id": "d2628489",
   "metadata": {},
   "outputs": [
    {
     "name": "stdout",
     "output_type": "stream",
     "text": [
      "Connection established!\n"
     ]
    }
   ],
   "source": [
    "import mysql.connector as connector\n",
    "\n",
    "try:\n",
    "    connection=connector.connect(user=\"root\", password=\"\")\n",
    "    print('Connection established!')\n",
    "except connector.Error as e:\n",
    "    print(f\"\"\"\n",
    "    Error code : {e.errno}|\n",
    "    Error message : {e.msg}\n",
    "    \"\"\")"
   ]
  },
  {
   "cell_type": "code",
   "execution_count": 12,
   "id": "f92001b7",
   "metadata": {},
   "outputs": [
    {
     "name": "stdout",
     "output_type": "stream",
     "text": [
      "('automobile',)\n",
      "('information_schema',)\n",
      "('jewelrystore_db',)\n",
      "('little_lemon',)\n",
      "('Lucky_Shrub',)\n",
      "('luckyshrub_db',)\n",
      "('Mangata_Gallo',)\n",
      "('mysql',)\n",
      "('performance_schema',)\n",
      "('restaurant',)\n",
      "('soccer',)\n",
      "('sys',)\n"
     ]
    }
   ],
   "source": [
    "# Create a cursor object\n",
    "cursor = connection.cursor()\n",
    "\n",
    "# Let's look at our current database tables\n",
    "cursor.execute('SHOW DATABASES')\n",
    "for db in cursor.fetchall():\n",
    "    print(db)"
   ]
  },
  {
   "cell_type": "code",
   "execution_count": 13,
   "id": "2a41ddfe",
   "metadata": {},
   "outputs": [
    {
     "name": "stdout",
     "output_type": "stream",
     "text": [
      "('Bookings',)\n",
      "('MenuItems',)\n",
      "('Menus',)\n",
      "('Orders',)\n"
     ]
    }
   ],
   "source": [
    "# We want to use little_lemon\n",
    "cursor.execute('USE little_lemon')\n",
    "\n",
    "# get all tables\n",
    "cursor.execute('SHOW TABLES')\n",
    "\n",
    "# iterate through each use cursor .fetchall\n",
    "for table in cursor.fetchall():\n",
    "    print(table)"
   ]
  },
  {
   "cell_type": "code",
   "execution_count": 17,
   "id": "df452586",
   "metadata": {},
   "outputs": [
    {
     "name": "stdout",
     "output_type": "stream",
     "text": [
      "We will be storing the tables for our selected database : little_lemon\n"
     ]
    },
    {
     "data": {
      "text/plain": [
       "['Bookings', 'MenuItems', 'Menus', 'Orders']"
      ]
     },
     "execution_count": 17,
     "metadata": {},
     "output_type": "execute_result"
    }
   ],
   "source": [
    "## Remember (In order to get the cursor poulated, we need to call the same tasks and this time store each in a list)\n",
    "\n",
    "# Get table results for active database\n",
    "print(f'We will be storing the tables for our selected database : {connection.database}')\n",
    "\n",
    "# Get tables\n",
    "cursor.execute('SHOW TABLES')\n",
    "\n",
    "# add results with fetchall : [('Bookings',), ('MenuItems',), ('Menus',), ('Orders',)] (need to take first item out of tuple)\n",
    "little_lemon_tables = [x[0] for x in cursor.fetchall()]\n",
    "\n",
    "little_lemon_tables"
   ]
  },
  {
   "cell_type": "markdown",
   "id": "5d20faae",
   "metadata": {},
   "source": [
    "* Tables in little_lemon\n",
    "\n",
    "```sql\n",
    "mysql> SHOW TABLES;\n",
    "+------------------------+\n",
    "| Tables_in_little_lemon |\n",
    "+------------------------+\n",
    "| Bookings               |\n",
    "| MenuItems              |\n",
    "| Menus                  |\n",
    "| Orders                 |\n",
    "+------------------------+\n",
    "4 rows in set (0.00 sec)\n",
    "\n",
    "```"
   ]
  },
  {
   "cell_type": "code",
   "execution_count": 18,
   "id": "49751425",
   "metadata": {},
   "outputs": [],
   "source": [
    "import pytest\n",
    "\n",
    "assert little_lemon_tables == ['Bookings', 'MenuItems', 'Menus', 'Orders']"
   ]
  },
  {
   "cell_type": "markdown",
   "id": "e8d77fd7",
   "metadata": {},
   "source": [
    "* Our `assertion` passed and we have all the tables from using the cursor method "
   ]
  },
  {
   "cell_type": "markdown",
   "id": "b6fa625e",
   "metadata": {},
   "source": [
    "### **Task 2**\n",
    "\n",
    "Creating the cursor is an important step for communicating with the entire MySQL database using Python. \n",
    "\n",
    "You have learned about the different approaches for creating cursors. Which approach you use depends on your application and resource optimization. \n",
    "\n",
    "Run a test between the standard and the buffered cursor to check what type of cursor will work for the situation given below:\n",
    "* Create a cursor\n",
    "* Execute USE little_lemon\n",
    "* Execute SELECT * FROM Bookings\n",
    "* Execute SELECT * FROM Orders\n",
    "\n",
    "The expected output results for the standard cursor with default parameters are displayed in the following screenshot:\n",
    "\n",
    "**Internal Error: Unread result found**\n",
    "\n",
    "* For the cursor with `buffered = True`, you will not see any error message."
   ]
  },
  {
   "cell_type": "code",
   "execution_count": 20,
   "id": "02e43d39",
   "metadata": {},
   "outputs": [
    {
     "ename": "InternalError",
     "evalue": "Unread result found",
     "output_type": "error",
     "traceback": [
      "\u001b[0;31m---------------------------------------------------------------------------\u001b[0m",
      "\u001b[0;31mInternalError\u001b[0m                             Traceback (most recent call last)",
      "\u001b[0;32m/var/folders/r8/mmfd5rgj7v51_80zhnq8v9zc0000gn/T/ipykernel_67534/434540738.py\u001b[0m in \u001b[0;36m<module>\u001b[0;34m\u001b[0m\n\u001b[1;32m      4\u001b[0m \u001b[0mnew_cursor\u001b[0m\u001b[0;34m.\u001b[0m\u001b[0mexecute\u001b[0m\u001b[0;34m(\u001b[0m\u001b[0;34m'USE little_lemon'\u001b[0m\u001b[0;34m)\u001b[0m\u001b[0;34m\u001b[0m\u001b[0;34m\u001b[0m\u001b[0m\n\u001b[1;32m      5\u001b[0m \u001b[0mnew_cursor\u001b[0m\u001b[0;34m.\u001b[0m\u001b[0mexecute\u001b[0m\u001b[0;34m(\u001b[0m\u001b[0;34m\"\"\"SELECT * FROM Bookings;\"\"\"\u001b[0m\u001b[0;34m)\u001b[0m\u001b[0;34m\u001b[0m\u001b[0;34m\u001b[0m\u001b[0m\n\u001b[0;32m----> 6\u001b[0;31m \u001b[0mnew_cursor\u001b[0m\u001b[0;34m.\u001b[0m\u001b[0mexecute\u001b[0m\u001b[0;34m(\u001b[0m\u001b[0;34m\"\"\"SELECT * FROM Orders;\"\"\"\u001b[0m\u001b[0;34m)\u001b[0m\u001b[0;34m\u001b[0m\u001b[0;34m\u001b[0m\u001b[0m\n\u001b[0m",
      "\u001b[0;32m~/opt/anaconda3/lib/python3.9/site-packages/mysql/connector/cursor.py\u001b[0m in \u001b[0;36mexecute\u001b[0;34m(self, operation, params, multi)\u001b[0m\n\u001b[1;32m    519\u001b[0m             \u001b[0;32mraise\u001b[0m \u001b[0merrors\u001b[0m\u001b[0;34m.\u001b[0m\u001b[0mProgrammingError\u001b[0m\u001b[0;34m(\u001b[0m\u001b[0;34m\"Cursor is not connected\"\u001b[0m\u001b[0;34m)\u001b[0m\u001b[0;34m\u001b[0m\u001b[0;34m\u001b[0m\u001b[0m\n\u001b[1;32m    520\u001b[0m \u001b[0;34m\u001b[0m\u001b[0m\n\u001b[0;32m--> 521\u001b[0;31m         \u001b[0mself\u001b[0m\u001b[0;34m.\u001b[0m\u001b[0m_connection\u001b[0m\u001b[0;34m.\u001b[0m\u001b[0mhandle_unread_result\u001b[0m\u001b[0;34m(\u001b[0m\u001b[0;34m)\u001b[0m\u001b[0;34m\u001b[0m\u001b[0;34m\u001b[0m\u001b[0m\n\u001b[0m\u001b[1;32m    522\u001b[0m \u001b[0;34m\u001b[0m\u001b[0m\n\u001b[1;32m    523\u001b[0m         \u001b[0mself\u001b[0m\u001b[0;34m.\u001b[0m\u001b[0m_reset_result\u001b[0m\u001b[0;34m(\u001b[0m\u001b[0;34m)\u001b[0m\u001b[0;34m\u001b[0m\u001b[0;34m\u001b[0m\u001b[0m\n",
      "\u001b[0;32m~/opt/anaconda3/lib/python3.9/site-packages/mysql/connector/connection.py\u001b[0m in \u001b[0;36mhandle_unread_result\u001b[0;34m(self)\u001b[0m\n\u001b[1;32m   1057\u001b[0m             \u001b[0mself\u001b[0m\u001b[0;34m.\u001b[0m\u001b[0mconsume_results\u001b[0m\u001b[0;34m(\u001b[0m\u001b[0;34m)\u001b[0m\u001b[0;34m\u001b[0m\u001b[0;34m\u001b[0m\u001b[0m\n\u001b[1;32m   1058\u001b[0m         \u001b[0;32melif\u001b[0m \u001b[0mself\u001b[0m\u001b[0;34m.\u001b[0m\u001b[0munread_result\u001b[0m\u001b[0;34m:\u001b[0m\u001b[0;34m\u001b[0m\u001b[0;34m\u001b[0m\u001b[0m\n\u001b[0;32m-> 1059\u001b[0;31m             \u001b[0;32mraise\u001b[0m \u001b[0merrors\u001b[0m\u001b[0;34m.\u001b[0m\u001b[0mInternalError\u001b[0m\u001b[0;34m(\u001b[0m\u001b[0;34m\"Unread result found\"\u001b[0m\u001b[0;34m)\u001b[0m\u001b[0;34m\u001b[0m\u001b[0;34m\u001b[0m\u001b[0m\n\u001b[0m",
      "\u001b[0;31mInternalError\u001b[0m: Unread result found"
     ]
    }
   ],
   "source": [
    "## Standard Approach\n",
    "new_cursor = connection.cursor()\n",
    "\n",
    "new_cursor.execute('USE little_lemon')\n",
    "new_cursor.execute(\"\"\"SELECT * FROM Bookings;\"\"\")\n",
    "new_cursor.execute(\"\"\"SELECT * FROM Orders;\"\"\")"
   ]
  },
  {
   "cell_type": "code",
   "execution_count": 25,
   "id": "c8ccafa6",
   "metadata": {},
   "outputs": [],
   "source": [
    "## Buffered Approach\n",
    "new_cursor_buffered = connection.cursor(buffered=True)\n",
    "new_cursor_buffered.execute('USE little_lemon')\n",
    "new_cursor_buffered.execute(\"\"\"SELECT * FROM Bookings;\"\"\")\n",
    "new_cursor_buffered.execute(\"\"\"SELECT * FROM Orders;\"\"\")"
   ]
  },
  {
   "cell_type": "markdown",
   "id": "3f8f600b",
   "metadata": {},
   "source": [
    "### **Task 3**\n",
    "Little Lemon will soon have multiple databases. They need to plan for a scalable solution.  This information can be tracked in a Python dictionary. A dictionary cursor is helpful as it returns a dictionary object. \n",
    "\n",
    "* Create a cursor with the argument [dictionary = True] and retrieve the names of all the tables in the form of a dictionary object where the name of the tables is a value, and the database name is a key."
   ]
  },
  {
   "cell_type": "code",
   "execution_count": 28,
   "id": "546edbee",
   "metadata": {},
   "outputs": [],
   "source": [
    "dict_cursor = connection.cursor(dictionary=True)\n",
    "dict_cursor.execute('SHOW TABLES')\n",
    "# Lets see what fetchall returns\n",
    "dict_return = dict_cursor.fetchall()"
   ]
  },
  {
   "cell_type": "code",
   "execution_count": 29,
   "id": "45aac6ba",
   "metadata": {},
   "outputs": [
    {
     "data": {
      "text/plain": [
       "[{'Tables_in_little_lemon': 'Bookings'},\n",
       " {'Tables_in_little_lemon': 'MenuItems'},\n",
       " {'Tables_in_little_lemon': 'Menus'},\n",
       " {'Tables_in_little_lemon': 'Orders'}]"
      ]
     },
     "execution_count": 29,
     "metadata": {},
     "output_type": "execute_result"
    }
   ],
   "source": [
    "dict_return"
   ]
  },
  {
   "cell_type": "code",
   "execution_count": 37,
   "id": "152797ee",
   "metadata": {},
   "outputs": [
    {
     "data": {
      "text/plain": [
       "{'Tables_in_little_lemon': ['Bookings', 'MenuItems', 'Menus', 'Orders']}"
      ]
     },
     "execution_count": 37,
     "metadata": {},
     "output_type": "execute_result"
    }
   ],
   "source": [
    "value_consolidation = {}\n",
    "for table in dict_return:\n",
    "    # loop through keys\n",
    "    for key in table.keys():\n",
    "        if key in value_consolidation:\n",
    "            value_consolidation[key].append(table[key])\n",
    "        else:\n",
    "            value_consolidation[key] = []\n",
    "            value_consolidation[key].append(table[key])\n",
    "    \n",
    "value_consolidation"
   ]
  },
  {
   "cell_type": "code",
   "execution_count": 40,
   "id": "94910d91",
   "metadata": {},
   "outputs": [],
   "source": [
    "# Close Cursors\n",
    "dict_cursor.close()\n",
    "new_cursor_buffered.close()\n",
    "#new_cursor.close() # unread results so nothing to close\n",
    "#cursor.close() # unread results so nothing to close\n",
    "\n",
    "# Close connection\n",
    "connection.close()"
   ]
  }
 ],
 "metadata": {
  "kernelspec": {
   "display_name": "Python 3 (ipykernel)",
   "language": "python",
   "name": "python3"
  },
  "language_info": {
   "codemirror_mode": {
    "name": "ipython",
    "version": 3
   },
   "file_extension": ".py",
   "mimetype": "text/x-python",
   "name": "python",
   "nbconvert_exporter": "python",
   "pygments_lexer": "ipython3",
   "version": "3.9.12"
  }
 },
 "nbformat": 4,
 "nbformat_minor": 5
}
