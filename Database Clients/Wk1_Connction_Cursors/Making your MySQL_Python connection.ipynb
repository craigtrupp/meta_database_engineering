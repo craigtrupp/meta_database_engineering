{
 "cells": [
  {
   "cell_type": "markdown",
   "id": "d4719c6e",
   "metadata": {},
   "source": [
    "## Generic guidelines:\n",
    "\n",
    "**Prerequisites:**\n",
    "\n",
    "To complete this lab, you need to install Python and MySQL databases. Then install MySQL Connector/Python client or API on your Python environment. Follow the instructions in previous videos on “Installation and setup” to install the required packages or software. \n",
    "\n",
    "To work with MySQL using Python, you must have an authorized user account on the MySQL server.\n",
    "\n",
    "`Learning objectives`:\n",
    "* Establish a MySQL/Python connection\n",
    "\n",
    "**Scenario:**\n",
    "\n",
    "Little Lemon is developing a Python-based application that needs to use MySQL in the back end so that they can store day-to-day data on bookings, orders and menus in their database’s respective tables.  \n",
    "\n",
    "They have all the required components installed to store the data. However, they need help to establish a connection between Python and the MySQL server so that they can access and communicate with the database using Python. \n",
    "\n",
    "You are tasked to help Little Lemon to accomplish its business goals by establishing a secure connection to the MySQL database using Python."
   ]
  },
  {
   "cell_type": "markdown",
   "id": "d52a9b10",
   "metadata": {},
   "source": [
    "### **Task 1:**\n",
    "\n",
    "* Help Little Lemon establish a connection to their MySQL database using Python, via MySQL Connector/Python API so that they can access data according to their business needs. \n",
    "    - **Step 1**: Import the appropriate MySQL connector library using the alias connector.\n",
    "    - **Step 2**: Next, create a variable called connection and use it to store an instance of the connection made with the database using the connector module. This module uses a method called connect() and you should provide the relevant connection details."
   ]
  },
  {
   "cell_type": "code",
   "execution_count": 1,
   "id": "ab1ed834",
   "metadata": {},
   "outputs": [],
   "source": [
    "import mysql.connector as connector"
   ]
  },
  {
   "cell_type": "markdown",
   "id": "3b5ee21a",
   "metadata": {},
   "source": [
    "* Connection works as no exception was raised (Module wouldn't have been found if so - previously had installed w/pip"
   ]
  },
  {
   "cell_type": "code",
   "execution_count": 4,
   "id": "2f38b726",
   "metadata": {},
   "outputs": [
    {
     "name": "stdout",
     "output_type": "stream",
     "text": [
      "Importing MySQL Connector/Python API\n",
      "MySQL Connector/Python API is imported successfully.\n",
      "\n",
      "Establishing a new connection between MySQL and Python.\n",
      "A connection between MySQL and Python is successfully established\n"
     ]
    }
   ],
   "source": [
    "# Print a message to guide the user\n",
    "# Import MySQL Connector/Python \n",
    "print(\"Importing MySQL Connector/Python API\")\n",
    "import mysql.connector as connector\n",
    "print(\"MySQL Connector/Python API is imported successfully.\\n\")\n",
    "\n",
    "# Establis connection with authorized user/password\n",
    "print(\"Establishing a new connection between MySQL and Python.\")\n",
    "#connection=connector.connect(user=\"your_username\",password=\"your_password\")\n",
    "\n",
    "connection=connector.connect(user=\"root\",password=\"\")\n",
    "print(\"A connection between MySQL and Python is successfully established\")"
   ]
  },
  {
   "cell_type": "markdown",
   "id": "791008d3",
   "metadata": {},
   "source": [
    "### **Task 2:**\n",
    "* Little Lemon need to write clean safe code and must ensure that there are no connection issues when connecting with MySQL database. \n",
    "* They have heard of Python’s try/except blocks and are interested in incorporating them into their own code.  \n",
    "    - `Step 1:` As you did in the previous task, import an instance of MySQL connector using the alias connector.\n",
    "    - `Step 2:` Open a try block and place the appropriate connection code within it. \n",
    "    \n",
    "`TIP`: \n",
    "* Test your set-up by purposefully entering an incorrect user or password and see if you get the following message: \"There was a problem connecting to the MySQL server. Please check the username or password.\""
   ]
  },
  {
   "cell_type": "code",
   "execution_count": 5,
   "id": "98bbc97c",
   "metadata": {},
   "outputs": [
    {
     "name": "stdout",
     "output_type": "stream",
     "text": [
      "\n",
      "    There was a problem connecting to the database.\n",
      "    Please check your username or the password.\n",
      "    \n"
     ]
    }
   ],
   "source": [
    "import mysql.connector as connector\n",
    "\n",
    "try:\n",
    "    connection = connector.connect(user='root_boy', password='dodger')\n",
    "except:\n",
    "    print(\"\"\"\n",
    "    There was a problem connecting to the database.\n",
    "    Please check your username or the password.\n",
    "    \"\"\")"
   ]
  },
  {
   "cell_type": "markdown",
   "id": "d4137838",
   "metadata": {},
   "source": [
    "### **Task 3:**\n",
    "Little Lemon need to identify the reason for any issues that might occur when connecting to the database. Help them to retrieve the error code along with the error message in the following situations: \n",
    "* When the database does not exist.\n",
    "* When a wrong username or password is entered.\n",
    "\n",
    "\n",
    "`TIP:` \n",
    "* Use the Error class from mysql.connector to get the error code and the message. Use try-except from Python for implementation. \n",
    "\n",
    "The expected output should resemble the following screenshot if the database does not exist:\n",
    "```python\n",
    "Error code : 1049\n",
    "Error message : Unknown database \"no_databse\"\n",
    "```"
   ]
  },
  {
   "cell_type": "code",
   "execution_count": 7,
   "id": "0b1c2b34",
   "metadata": {},
   "outputs": [
    {
     "name": "stdout",
     "output_type": "stream",
     "text": [
      "\n",
      "    Error code : 1049\n",
      "    Error message : Unknown database 'no_database'\n",
      "    \n"
     ]
    }
   ],
   "source": [
    "import mysql.connector as connector\n",
    "\n",
    "try:\n",
    "    connection=connector.connect(user=\"root\", password=\"\", database = \"no_database\")\n",
    "except connector.Error as e:\n",
    "    print(f\"\"\"\n",
    "    Error code : {e.errno}\n",
    "    Error message : {e.msg}\n",
    "    \"\"\")"
   ]
  },
  {
   "cell_type": "code",
   "execution_count": 8,
   "id": "27726ca9",
   "metadata": {},
   "outputs": [
    {
     "name": "stdout",
     "output_type": "stream",
     "text": [
      "MySQL connection is closed.\n"
     ]
    }
   ],
   "source": [
    "# Let's close the cursor and the connection\n",
    "if connection.is_connected():\n",
    "    connection.close()\n",
    "    print(\"MySQL connection is closed.\")\n",
    "else:\n",
    "    print(\"Connection is already closed\")"
   ]
  },
  {
   "cell_type": "code",
   "execution_count": null,
   "id": "6d1ad4c1",
   "metadata": {},
   "outputs": [],
   "source": []
  }
 ],
 "metadata": {
  "kernelspec": {
   "display_name": "Python 3 (ipykernel)",
   "language": "python",
   "name": "python3"
  },
  "language_info": {
   "codemirror_mode": {
    "name": "ipython",
    "version": 3
   },
   "file_extension": ".py",
   "mimetype": "text/x-python",
   "name": "python",
   "nbconvert_exporter": "python",
   "pygments_lexer": "ipython3",
   "version": "3.9.12"
  }
 },
 "nbformat": 4,
 "nbformat_minor": 5
}
