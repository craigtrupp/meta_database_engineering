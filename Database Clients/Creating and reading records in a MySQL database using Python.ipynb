{
 "cells": [
  {
   "cell_type": "markdown",
   "id": "734a64a2",
   "metadata": {},
   "source": [
    "`Prerequisites`\n",
    "\n",
    "To complete this exercise, you must have access to the `little_lemon` database. As an authorized user, you need to establish a connection between Python and the database via the connector API and create a cursor object\n",
    "\n",
    "Once the connection is established, and you have a cursor object, you can select the database little_lemon and print the names of the tables\n",
    "\n",
    "You should have the four created tables from previous labs in your database envionrment\n",
    "\n",
    "\n",
    "#### Learning objectives:\n",
    "* Create records in a MySQL database using Python\n",
    "* Read records in a MySQL database using Python\n",
    "\n",
    "\n",
    "`Scenario:`\n",
    "\n",
    "Little Lemon restaurant has created a database and designed tables to keep records of key data. The list of tables that they’ve created are as follows:\n",
    "* A table called Menu that stores menu data, \n",
    "* A table called MenuItems that stores data on menu items, \n",
    "* A table called Orders that stores data on customer orders, \n",
    "* And a table called Bookings that stores data on customer bookings. \n",
    "\n",
    "They now need to populate these tables with relevant data. They also need to read the data once the records have been inserted into the database.\n",
    "\n",
    "Help Little Lemon create and read data in their MySQL database using Python.                 \n",
    "\n",
    "\n",
    "#### Connection & Cursor\n",
    "Prior to the Tasks, let's create the connection and cursor objects\n"
   ]
  },
  {
   "cell_type": "code",
   "execution_count": 18,
   "id": "1ffaf9a4",
   "metadata": {},
   "outputs": [
    {
     "name": "stdout",
     "output_type": "stream",
     "text": [
      "Connection established!\n"
     ]
    }
   ],
   "source": [
    "import mysql.connector as connector\n",
    "\n",
    "try:\n",
    "    connection=connector.connect(user=\"root\", password=\"\")\n",
    "    print('Connection established!')\n",
    "except connector.Error as e:\n",
    "    print(f\"\"\"\n",
    "    Error code : {e.errno}|\n",
    "    Error message : {e.msg}\n",
    "    \"\"\")"
   ]
  },
  {
   "cell_type": "code",
   "execution_count": 19,
   "id": "79538f8f",
   "metadata": {},
   "outputs": [
    {
     "name": "stdout",
     "output_type": "stream",
     "text": [
      "[('automobile',), ('information_schema',), ('jewelrystore_db',), ('little_lemon',), ('Lucky_Shrub',), ('luckyshrub_db',), ('Mangata_Gallo',), ('mysql',), ('performance_schema',), ('restaurant',), ('soccer',), ('sys',)]\n"
     ]
    }
   ],
   "source": [
    "## Create default cursor\n",
    "cursor = connection.cursor()\n",
    "cursor.execute('SHOW DATABASES')\n",
    "print(cursor.fetchall())"
   ]
  },
  {
   "cell_type": "code",
   "execution_count": 20,
   "id": "e4393ec6",
   "metadata": {},
   "outputs": [
    {
     "data": {
      "text/plain": [
       "'little_lemon'"
      ]
     },
     "execution_count": 20,
     "metadata": {},
     "output_type": "execute_result"
    }
   ],
   "source": [
    "# use little_lemon\n",
    "cursor.execute('USE little_lemon;')\n",
    "# Validate connection database\n",
    "connection.database"
   ]
  },
  {
   "cell_type": "code",
   "execution_count": 21,
   "id": "d3132856",
   "metadata": {},
   "outputs": [
    {
     "data": {
      "text/plain": [
       "['Bookings', 'MenuItems', 'Menus', 'Orders']"
      ]
     },
     "execution_count": 21,
     "metadata": {},
     "output_type": "execute_result"
    }
   ],
   "source": [
    "## Let's review the tables prior to insertion\n",
    "cursor.execute('SHOW TABLES')\n",
    "tables = [x[0] for x in cursor.fetchall()]\n",
    "tables"
   ]
  },
  {
   "cell_type": "code",
   "execution_count": 22,
   "id": "25e1ce1f",
   "metadata": {},
   "outputs": [
    {
     "name": "stdout",
     "output_type": "stream",
     "text": [
      "Our table: Bookings, has a total of 1 rows\n",
      "Our table: MenuItems, has a total of 1 rows\n",
      "Our table: Menus, has a total of 1 rows\n",
      "Our table: Orders, has a total of 1 rows\n"
     ]
    }
   ],
   "source": [
    "# Can we loop through to see if any of the tables have records?\n",
    "for table in tables:\n",
    "    cursor.execute(\"\"\"\n",
    "    SELECT COUNT(*) FROM {}\n",
    "    \"\"\".format(table))\n",
    "    print(f'Our table: {table}, has a total of {len(cursor.fetchall())} rows')"
   ]
  },
  {
   "cell_type": "code",
   "execution_count": 24,
   "id": "adc7f0d2",
   "metadata": {},
   "outputs": [
    {
     "name": "stdout",
     "output_type": "stream",
     "text": [
      "{'Bookings': [], 'MenuItems': [], 'Menus': [], 'Orders': []}\n"
     ]
    }
   ],
   "source": [
    "table_rows_pre_insertion = {}\n",
    "for table in tables:\n",
    "    cursor.execute(\"\"\"\n",
    "    SELECT * FROM {}\n",
    "    \"\"\".format(table))\n",
    "    table_rows_pre_insertion[table] = cursor.fetchall()\n",
    "    #print(cursor.fetchall()) # InterfaceError: No result set to fetch from.\n",
    "\n",
    "print(table_rows_pre_insertion)"
   ]
  },
  {
   "cell_type": "markdown",
   "id": "d12c4095",
   "metadata": {},
   "source": [
    "```sql\n",
    "mysql> SELECT COUNT(*) FROM Bookings;\n",
    "+----------+\n",
    "| COUNT(*) |\n",
    "+----------+\n",
    "|        0 |\n",
    "+----------+\n",
    "1 row in set (0.00 sec)\n",
    "```"
   ]
  },
  {
   "cell_type": "markdown",
   "id": "55a8a257",
   "metadata": {},
   "source": [
    "* Ahhh was being a bit foolish here as there is one row as it's an aggregate count for each. Nothing in any of the tables so we can now insert"
   ]
  },
  {
   "cell_type": "markdown",
   "id": "b0d12052",
   "metadata": {},
   "source": [
    "### **Task 1:**\n",
    "* Insert data in all four tables in the little_lemon database using Python. \n",
    "* Use the following INSERT queries to populate the tables with relevant data."
   ]
  },
  {
   "cell_type": "code",
   "execution_count": 25,
   "id": "5ff5a853",
   "metadata": {},
   "outputs": [],
   "source": [
    "insert_bookings=\"\"\"\n",
    "INSERT INTO Bookings (BookingID, TableNo, GuestFirstName, \n",
    "GuestLastName, BookingSlot, EmployeeID)\n",
    "VALUES\n",
    "(1,12,'Anna','Iversen','19:00:00',1),\n",
    "(2, 12, 'Joakim', 'Iversen', '19:00:00', 1),\n",
    "(3, 19, 'Vanessa', 'McCarthy', '15:00:00', 3),\n",
    "(4, 15, 'Marcos', 'Romero', '17:30:00', 4),\n",
    "(5, 5, 'Hiroki', 'Yamane', '18:30:00', 2),\n",
    "(6, 8, 'Diana', 'Pinto', '20:00:00', 5);\"\"\"\n",
    "\n",
    "# Execute commit\n",
    "cursor.execute(insert_bookings)\n"
   ]
  },
  {
   "cell_type": "code",
   "execution_count": 26,
   "id": "903ceec0",
   "metadata": {},
   "outputs": [
    {
     "data": {
      "text/plain": [
       "[(1, 12, 'Anna', 'Iversen', datetime.timedelta(seconds=68400), 1),\n",
       " (2, 12, 'Joakim', 'Iversen', datetime.timedelta(seconds=68400), 1),\n",
       " (3, 19, 'Vanessa', 'McCarthy', datetime.timedelta(seconds=54000), 3),\n",
       " (4, 15, 'Marcos', 'Romero', datetime.timedelta(seconds=63000), 4),\n",
       " (5, 5, 'Hiroki', 'Yamane', datetime.timedelta(seconds=66600), 2),\n",
       " (6, 8, 'Diana', 'Pinto', datetime.timedelta(seconds=72000), 5)]"
      ]
     },
     "execution_count": 26,
     "metadata": {},
     "output_type": "execute_result"
    }
   ],
   "source": [
    "cursor.execute('SELECT * FROM Bookings;')\n",
    "cursor.fetchall()"
   ]
  },
  {
   "cell_type": "code",
   "execution_count": 28,
   "id": "2cf1ba8b",
   "metadata": {},
   "outputs": [],
   "source": [
    "insert_menuitems=\"\"\"\n",
    "INSERT INTO MenuItems (ItemID, Name, Type, Price)\n",
    "VALUES\n",
    "(1,'Olives','Starters',5),\n",
    "(2,'Flatbread','Starters', 5),\n",
    "(3, 'Minestrone', 'Starters', 8),\n",
    "(4, 'Tomato bread','Starters', 8),\n",
    "(5, 'Falafel', 'Starters', 7),\n",
    "(6, 'Hummus', 'Starters', 5),\n",
    "(7, 'Greek salad', 'Main Courses', 15),\n",
    "(8, 'Bean soup', 'Main Courses', 12),\n",
    "(9, 'Pizza', 'Main Courses', 15),\n",
    "(10,'Greek yoghurt','Desserts', 7),\n",
    "(11, 'Ice cream', 'Desserts', 6),\n",
    "(12, 'Cheesecake', 'Desserts', 4),\n",
    "(13, 'Athens White wine', 'Drinks', 25),\n",
    "(14, 'Corfu Red Wine', 'Drinks', 30),\n",
    "(15, 'Turkish Coffee', 'Drinks', 10),\n",
    "(16, 'Turkish Coffee', 'Drinks', 10),\n",
    "(17, 'Kabasa', 'Main Courses', 17);\"\"\"\n",
    "\n",
    "cursor.execute(insert_menuitems)\n",
    "\n",
    "insert_menu=\"\"\"\n",
    "INSERT INTO Menus (MenuID, ItemID, Cuisine)\n",
    "VALUES\n",
    "(1, 1, 'Greek'),\n",
    "(1, 7, 'Greek'),\n",
    "(1, 10, 'Greek'),\n",
    "(1, 13, 'Greek'),\n",
    "(2, 3, 'Italian'),\n",
    "(2, 9, 'Italian'),\n",
    "(2, 12, 'Italian'),\n",
    "(2, 15, 'Italian'),\n",
    "(3, 5, 'Turkish'),\n",
    "(3, 17, 'Turkish'),\n",
    "(3, 11, 'Turkish'),\n",
    "(3, 16, 'Turkish');\"\"\"\n",
    "\n",
    "cursor.execute(insert_menu)\n",
    "\n",
    "insert_orders=\"\"\"\n",
    "INSERT INTO Orders (OrderID, TableNo, MenuID, BookingID, Quantity, BillAmount)\n",
    "VALUES\n",
    "(1, 12, 1, 1, 2, 86),\n",
    "(2, 19, 2, 2, 1, 37),\n",
    "(3, 15, 2, 3, 1, 37),\n",
    "(4, 5, 3, 4, 1, 40),\n",
    "(5, 8, 1, 5, 1, 43);\"\"\"\n",
    "\n",
    "cursor.execute(insert_orders)\n",
    "\n",
    "## commit all changes to connection\n",
    "connection.commit()"
   ]
  },
  {
   "cell_type": "markdown",
   "id": "5df09285",
   "metadata": {},
   "source": [
    "```sql\n",
    "mysql> SELECT * FROM Bookings;\n",
    "+-----------+---------+----------------+---------------+-------------+------------+\n",
    "| BookingID | TableNo | GuestFirstName | GuestLastName | BookingSlot | EmployeeID |\n",
    "+-----------+---------+----------------+---------------+-------------+------------+\n",
    "|         1 |      12 | Anna           | Iversen       | 19:00:00    |          1 |\n",
    "|         2 |      12 | Joakim         | Iversen       | 19:00:00    |          1 |\n",
    "|         3 |      19 | Vanessa        | McCarthy      | 15:00:00    |          3 |\n",
    "|         4 |      15 | Marcos         | Romero        | 17:30:00    |          4 |\n",
    "|         5 |       5 | Hiroki         | Yamane        | 18:30:00    |          2 |\n",
    "|         6 |       8 | Diana          | Pinto         | 20:00:00    |          5 |\n",
    "+-----------+---------+----------------+---------------+-------------+------------+\n",
    "6 rows in set (0.00 sec)\n",
    "```\n",
    "\n",
    "```sql\n",
    "mysql> SELECT * FROM MenuItems;\n",
    "+--------+-------------------+--------------+-------+\n",
    "| ItemID | Name              | Type         | Price |\n",
    "+--------+-------------------+--------------+-------+\n",
    "|      1 | Olives            | Starters     |     5 |\n",
    "|      2 | Flatbread         | Starters     |     5 |\n",
    "|      3 | Minestrone        | Starters     |     8 |\n",
    "|      4 | Tomato bread      | Starters     |     8 |\n",
    "|      5 | Falafel           | Starters     |     7 |\n",
    "|      6 | Hummus            | Starters     |     5 |\n",
    "|      7 | Greek salad       | Main Courses |    15 |\n",
    "|      8 | Bean soup         | Main Courses |    12 |\n",
    "|      9 | Pizza             | Main Courses |    15 |\n",
    "|     10 | Greek yoghurt     | Desserts     |     7 |\n",
    "|     11 | Ice cream         | Desserts     |     6 |\n",
    "|     12 | Cheesecake        | Desserts     |     4 |\n",
    "|     13 | Athens White wine | Drinks       |    25 |\n",
    "|     14 | Corfu Red Wine    | Drinks       |    30 |\n",
    "|     15 | Turkish Coffee    | Drinks       |    10 |\n",
    "|     16 | Turkish Coffee    | Drinks       |    10 |\n",
    "|     17 | Kabasa            | Main Courses |    17 |\n",
    "+--------+-------------------+--------------+-------+\n",
    "17 rows in set (0.00 sec)\n",
    "```\n",
    "\n",
    "```sql\n",
    "mysql> SELECT * FROM Menus;\n",
    "+--------+--------+---------+\n",
    "| MenuID | ItemID | Cuisine |\n",
    "+--------+--------+---------+\n",
    "|      1 |      1 | Greek   |\n",
    "|      1 |      7 | Greek   |\n",
    "|      1 |     10 | Greek   |\n",
    "|      1 |     13 | Greek   |\n",
    "|      2 |      3 | Italian |\n",
    "|      2 |      9 | Italian |\n",
    "|      2 |     12 | Italian |\n",
    "|      2 |     15 | Italian |\n",
    "|      3 |      5 | Turkish |\n",
    "|      3 |     11 | Turkish |\n",
    "|      3 |     16 | Turkish |\n",
    "|      3 |     17 | Turkish |\n",
    "+--------+--------+---------+\n",
    "12 rows in set (0.01 sec)\n",
    "```\n",
    "\n",
    "```sql\n",
    "mysql> SELECT * FROM Orders;\n",
    "+---------+---------+--------+-----------+------------+----------+\n",
    "| OrderID | TableNo | MenuID | BookingID | BillAmount | Quantity |\n",
    "+---------+---------+--------+-----------+------------+----------+\n",
    "|       1 |      12 |      1 |         1 |         86 |        2 |\n",
    "|       2 |      19 |      2 |         2 |         37 |        1 |\n",
    "|       3 |      15 |      2 |         3 |         37 |        1 |\n",
    "|       4 |       5 |      3 |         4 |         40 |        1 |\n",
    "|       5 |       8 |      1 |         5 |         43 |        1 |\n",
    "+---------+---------+--------+-----------+------------+----------+\n",
    "5 rows in set (0.07 sec)\n",
    "```"
   ]
  },
  {
   "cell_type": "markdown",
   "id": "32b66dc6",
   "metadata": {},
   "source": [
    "### **Task 2:**\n",
    "\n",
    "In the first task, you created tables to hold the restaurant’s data. Now Little Lemon requires you to retrieve the following data for each guest:\n",
    "* Guest first and last names.\n",
    "* The table number assigned to each guest."
   ]
  },
  {
   "cell_type": "code",
   "execution_count": 29,
   "id": "eda387ef",
   "metadata": {},
   "outputs": [
    {
     "data": {
      "text/plain": [
       "[('Anna', 'Iversen', 12),\n",
       " ('Joakim', 'Iversen', 12),\n",
       " ('Vanessa', 'McCarthy', 19),\n",
       " ('Marcos', 'Romero', 15),\n",
       " ('Hiroki', 'Yamane', 5),\n",
       " ('Diana', 'Pinto', 8)]"
      ]
     },
     "execution_count": 29,
     "metadata": {},
     "output_type": "execute_result"
    }
   ],
   "source": [
    "all_bookings = \"\"\"SELECT GuestFirstName, GuestLastName, TableNo FROM Bookings\"\"\"\n",
    "cursor.execute(all_bookings)\n",
    "cursor.fetchall()"
   ]
  },
  {
   "cell_type": "markdown",
   "id": "2d55edee",
   "metadata": {},
   "source": [
    "### **Task 3**\n",
    "Little Lemon’s queries are returning large volumes of data. They need to find a way to return the data in smaller, more manageable chunks. Let’s see if you can help them to return just the first three items from the menu. In other words, return the first three items from the cursor.\n",
    "\n",
    "Once the .execute() method is called on the select statement, you will have access to the rows effected. All of this data can returned at once using the  .fetchall() method or returned in smaller chunks using some of cursor’s other methods.  Write the code that instantiates a cursor and executes the select_stmt but only returns 3 rows."
   ]
  },
  {
   "cell_type": "code",
   "execution_count": 30,
   "id": "1ae4e60c",
   "metadata": {},
   "outputs": [
    {
     "name": "stdout",
     "output_type": "stream",
     "text": [
      "Data in the \"Menu\" table:\n",
      "('MenuID', 'ItemID', 'Cuisine')\n",
      "(1, 1, 'Greek')\n",
      "(1, 7, 'Greek')\n",
      "(1, 10, 'Greek')\n"
     ]
    }
   ],
   "source": [
    "# Query to retrieve all bookings is: \n",
    "all_menus = \"\"\"SELECT * FROM Menus;\"\"\"\n",
    "\n",
    "# Execute query \n",
    "cursor.execute(all_menus)\n",
    "\n",
    "# Fetch fist 3 records in results\n",
    "results = cursor.fetchmany(size=3)\n",
    "\n",
    "# Retrieve column names\n",
    "cols = cursor.column_names\n",
    "\n",
    "# Print column names and records from results using for loop\n",
    "print(\"\"\"Data in the \"Menu\" table:\"\"\")\n",
    "print(cols)\n",
    "for result in results:\n",
    "    print(result)"
   ]
  },
  {
   "cell_type": "code",
   "execution_count": 31,
   "id": "76afc1f5",
   "metadata": {},
   "outputs": [
    {
     "name": "stdout",
     "output_type": "stream",
     "text": [
      "(1, 13, 'Greek')\n",
      "(2, 3, 'Italian')\n",
      "(2, 9, 'Italian')\n",
      "(2, 12, 'Italian')\n",
      "(2, 15, 'Italian')\n",
      "(3, 5, 'Turkish')\n",
      "(3, 11, 'Turkish')\n",
      "(3, 16, 'Turkish')\n",
      "(3, 17, 'Turkish')\n"
     ]
    }
   ],
   "source": [
    "# Remaining records after fetching the first three\n",
    "results= cursor.fetchall()\n",
    "for result in results:\n",
    "    print(result)"
   ]
  },
  {
   "cell_type": "markdown",
   "id": "f640e0f1",
   "metadata": {},
   "source": [
    "* If we look at the menus table following the insertion, we can see that the remaining records in the cursor are retrieved with the `fetchall` without the first three which the cursor had iterated through in the two cells above"
   ]
  },
  {
   "cell_type": "code",
   "execution_count": 32,
   "id": "b0e2bc51",
   "metadata": {},
   "outputs": [],
   "source": [
    "cursor.close()\n",
    "connection.close()"
   ]
  }
 ],
 "metadata": {
  "kernelspec": {
   "display_name": "Python 3 (ipykernel)",
   "language": "python",
   "name": "python3"
  },
  "language_info": {
   "codemirror_mode": {
    "name": "ipython",
    "version": 3
   },
   "file_extension": ".py",
   "mimetype": "text/x-python",
   "name": "python",
   "nbconvert_exporter": "python",
   "pygments_lexer": "ipython3",
   "version": "3.9.12"
  }
 },
 "nbformat": 4,
 "nbformat_minor": 5
}
