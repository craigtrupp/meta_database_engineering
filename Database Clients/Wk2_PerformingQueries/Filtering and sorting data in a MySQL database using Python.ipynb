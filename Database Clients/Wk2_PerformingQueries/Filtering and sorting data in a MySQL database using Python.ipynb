{
 "cells": [
  {
   "cell_type": "markdown",
   "id": "b569f34f",
   "metadata": {},
   "source": [
    "`Prerequisites`\n",
    "\n",
    "To complete this exercise, you must have access to the `little_lemon` database. As an authorized user, you need to establish a connection between Python and the database via the connector API and create a cursor object\n",
    "\n",
    "Once the connection is established, and you have a cursor object, you can select the database little_lemon and print the names of the tables\n",
    "\n",
    "You should have the four created tables from previous labs in your database envionrment\n",
    "\n",
    "\n",
    "#### **Learning objectives:**\n",
    "* Filter data in a MySQL database using Python\n",
    "* Sort data in a MySQL database using Python\n",
    "\n",
    "\n",
    "`Scenario:`\n",
    "\n",
    "Little Lemon need to filter and sort the data in their MySQL database using Python to complete the following tasks:\n",
    "* Determine which waiter is serving which guest,\n",
    "* Identify all guests who paid a bill amount above a certain threshold,\n",
    "* And list all starters above a certain price and order with the price."
   ]
  },
  {
   "cell_type": "code",
   "execution_count": 1,
   "id": "4390cbb9",
   "metadata": {},
   "outputs": [
    {
     "name": "stdout",
     "output_type": "stream",
     "text": [
      "Connection established!\n"
     ]
    }
   ],
   "source": [
    "import mysql.connector as connector\n",
    "\n",
    "try:\n",
    "    connection=connector.connect(user=\"root\", password=\"\")\n",
    "    print('Connection established!')\n",
    "except connector.Error as e:\n",
    "    print(f\"\"\"\n",
    "    Error code : {e.errno}|\n",
    "    Error message : {e.msg}\n",
    "    \"\"\")"
   ]
  },
  {
   "cell_type": "code",
   "execution_count": 2,
   "id": "bdd799ca",
   "metadata": {},
   "outputs": [
    {
     "data": {
      "text/plain": [
       "'We are connected to : little_lemon'"
      ]
     },
     "execution_count": 2,
     "metadata": {},
     "output_type": "execute_result"
    }
   ],
   "source": [
    "cursor = connection.cursor()\n",
    "\n",
    "# select little_lemon db\n",
    "cursor.execute('USE little_lemon;')\n",
    "\n",
    "# print out db in use\n",
    "f'We are connected to : {connection.database}'"
   ]
  },
  {
   "cell_type": "markdown",
   "id": "b62114f3",
   "metadata": {},
   "source": [
    "### **Task 1:**\n",
    "\n",
    "Little Lemon need you to help them query their database to find out \n",
    "* how many bookings they have today for table number `12`\n",
    "* They also need to know the names of the `guests` booked for table 12 and who their servers are. \n",
    "\n",
    "`Fields`\n",
    "\n",
    "* TableNo,\n",
    "* GuestFirstName,\n",
    "* GuestLastName,\n",
    "* EmployeeID."
   ]
  },
  {
   "cell_type": "code",
   "execution_count": 3,
   "id": "4ebccb75",
   "metadata": {},
   "outputs": [
    {
     "name": "stdout",
     "output_type": "stream",
     "text": [
      "('TableNo', 'GuestFirstName', 'GuestLastName', 'Server')\n",
      "(12, 'Anna', 'Iversen', 1)\n"
     ]
    }
   ],
   "source": [
    "filter_table_12 = \"\"\"\n",
    "SELECT\n",
    "    TableNo, GuestFirstName, GuestLastName, EmployeeID AS Server\n",
    "FROM Bookings\n",
    "WHERE TableNo = 12\n",
    "ORDER BY BookingID \n",
    "\"\"\"\n",
    "# execute query \n",
    "cursor.execute(filter_table_12)\n",
    "\n",
    "# View frows from cursor\n",
    "print(cursor.column_names)\n",
    "for row in cursor.fetchall():\n",
    "    print(row)"
   ]
  },
  {
   "cell_type": "markdown",
   "id": "68ce52ff",
   "metadata": {},
   "source": [
    "### **Task 2:**\n",
    "\n",
    "Little Lemon want to send a coupon to all guests who spent more than `$40` at the restaurant today. Help Little Lemon to filter and sort the records of all guests who qualify for coupons. "
   ]
  },
  {
   "cell_type": "code",
   "execution_count": 5,
   "id": "10e81d11",
   "metadata": {},
   "outputs": [
    {
     "name": "stdout",
     "output_type": "stream",
     "text": [
      "('BookingId', 'BillAmount', 'GuestFirstName', 'GuestLastName')\n",
      "(1, 86, 'Anna', 'Iversen')\n",
      "(5, 43, 'Hiroki', 'Yamane')\n"
     ]
    }
   ],
   "source": [
    "orders_gt40_customers = \"\"\"\n",
    "SELECT\n",
    "    o.BookingId, o.BillAmount, b.GuestFirstName, b.GuestLastName\n",
    "FROM Orders AS o\n",
    "INNER JOIN Bookings AS b\n",
    "    ON o.BookingID = b.BookingID\n",
    "WHERE o.BillAmount > 40\n",
    "ORDER BY o.BillAmount DESC;\n",
    "\"\"\"\n",
    "# Execute query\n",
    "cursor.execute(orders_gt40_customers)\n",
    "# View rows for cursor\n",
    "print(cursor.column_names)\n",
    "for row in cursor.fetchall():\n",
    "    print(row)"
   ]
  },
  {
   "cell_type": "markdown",
   "id": "728230e7",
   "metadata": {},
   "source": [
    "### **Task 3:**\n",
    "\n",
    "A guest wants to know the price of today’s starters and desserts. So Little Lemon need to extract the price of today’s STARTERS and DESSERT options from their database. \n",
    "\n",
    "* Create a query that extracts the prices and details of starters and dessert options only from the MenuItems table. \n",
    "* Order these prices from lower to higher. "
   ]
  },
  {
   "cell_type": "code",
   "execution_count": 6,
   "id": "a34d445c",
   "metadata": {},
   "outputs": [
    {
     "name": "stdout",
     "output_type": "stream",
     "text": [
      "('ItemID', 'Name', 'Type', 'Price')\n",
      "(12, 'Cheesecake', 'Desserts', 4)\n",
      "(1, 'Olives', 'Starters', 5)\n",
      "(2, 'Flatbread', 'Starters', 5)\n",
      "(6, 'Hummus', 'Starters', 5)\n",
      "(11, 'Ice cream', 'Desserts', 6)\n",
      "(5, 'Falafel', 'Starters', 7)\n",
      "(10, 'Greek yoghurt', 'Desserts', 7)\n",
      "(3, 'Minestrone', 'Starters', 8)\n",
      "(4, 'Tomato bread', 'Starters', 8)\n"
     ]
    }
   ],
   "source": [
    "menu_starters_dessert = \"\"\"\n",
    "SELECT * \n",
    "FROM MenuItems\n",
    "WHERE Type in ('Starters', 'Desserts')\n",
    "ORDER BY Price;\n",
    "\"\"\"\n",
    "# execute query\n",
    "cursor.execute(menu_starters_dessert)\n",
    "# view rows, columns first\n",
    "print(cursor.column_names)\n",
    "for row in cursor.fetchall():\n",
    "    print(row)"
   ]
  },
  {
   "cell_type": "code",
   "execution_count": null,
   "id": "9339d910",
   "metadata": {},
   "outputs": [],
   "source": []
  }
 ],
 "metadata": {
  "kernelspec": {
   "display_name": "Python 3 (ipykernel)",
   "language": "python",
   "name": "python3"
  },
  "language_info": {
   "codemirror_mode": {
    "name": "ipython",
    "version": 3
   },
   "file_extension": ".py",
   "mimetype": "text/x-python",
   "name": "python",
   "nbconvert_exporter": "python",
   "pygments_lexer": "ipython3",
   "version": "3.9.12"
  }
 },
 "nbformat": 4,
 "nbformat_minor": 5
}
