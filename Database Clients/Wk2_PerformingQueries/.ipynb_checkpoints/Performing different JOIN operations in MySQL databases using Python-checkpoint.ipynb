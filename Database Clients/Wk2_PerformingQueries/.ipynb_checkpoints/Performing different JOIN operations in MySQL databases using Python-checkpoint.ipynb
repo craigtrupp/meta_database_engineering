{
 "cells": [
  {
   "cell_type": "markdown",
   "id": "bb2b82fc",
   "metadata": {},
   "source": [
    "`Prerequisites`\n",
    "\n",
    "To complete this exercise, you must have access to the `little_lemon` database. As an authorized user, you need to establish a connection between Python and the database via the connector API and create a cursor object\n",
    "\n",
    "Once the connection is established, and you have a cursor object, you can select the database little_lemon and print the names of the tables\n",
    "\n",
    "You should have the four created tables from previous labs in your database envionrment\n",
    "\n",
    "\n",
    "#### **Learning objectives:**\n",
    "* Join and retrieve the required data from different tables in a MySQL database using `JOIN operations in Python`.\n",
    "\n",
    "\n",
    "\n",
    "`Scenario:`\n",
    "\n",
    "Little Lemon needs to carry out the following tasks with their datasets:\n",
    "* Determine the final bill amount for each customer who attended the restaurant today \n",
    "* Identify the type of cuisine that each item in their menu belongs to."
   ]
  },
  {
   "cell_type": "code",
   "execution_count": 1,
   "id": "3aff21f3",
   "metadata": {},
   "outputs": [
    {
     "name": "stdout",
     "output_type": "stream",
     "text": [
      "Connection established!\n"
     ]
    }
   ],
   "source": [
    "import mysql.connector as connector\n",
    "\n",
    "try:\n",
    "    connection=connector.connect(user=\"root\", password=\"\")\n",
    "    print('Connection established!')\n",
    "except connector.Error as e:\n",
    "    print(f\"\"\"\n",
    "    Error code : {e.errno}|\n",
    "    Error message : {e.msg}\n",
    "    \"\"\")"
   ]
  },
  {
   "cell_type": "code",
   "execution_count": 2,
   "id": "16eca19b",
   "metadata": {},
   "outputs": [
    {
     "data": {
      "text/plain": [
       "'We are connected to : little_lemon'"
      ]
     },
     "execution_count": 2,
     "metadata": {},
     "output_type": "execute_result"
    }
   ],
   "source": [
    "cursor = connection.cursor()\n",
    "\n",
    "# select little_lemon db\n",
    "cursor.execute('USE little_lemon;')\n",
    "\n",
    "# print out db in use\n",
    "f'We are connected to : {connection.database}'"
   ]
  },
  {
   "cell_type": "markdown",
   "id": "8a90afe7",
   "metadata": {},
   "source": [
    "#### A Few More Prereqs\n",
    "* Function to look at query returns\n",
    "* Addition to Menus following previous deletion"
   ]
  },
  {
   "cell_type": "code",
   "execution_count": 8,
   "id": "48e62c59",
   "metadata": {},
   "outputs": [],
   "source": [
    "def query_return(crs, query):\n",
    "    # execute query\n",
    "    crs.execute(query)\n",
    "    print(crs.column_names)\n",
    "    for row in crs.fetchall():\n",
    "        print(row)"
   ]
  },
  {
   "cell_type": "code",
   "execution_count": 10,
   "id": "a5fb0e75",
   "metadata": {},
   "outputs": [],
   "source": [
    "# insert into Menu\n",
    "greek_insert = \"\"\"\n",
    "INSERT INTO Menus\n",
    "VALUES \n",
    "(1, 1, 'Greek'),\n",
    "(1,7, 'Greek'),\n",
    "(1,10, 'Greek'),\n",
    "(1,13, 'Greek')\n",
    "\"\"\"\n",
    "# execute\n",
    "cursor.execute(greek_insert)\n",
    "# commit to db\n",
    "connection.commit()"
   ]
  },
  {
   "cell_type": "markdown",
   "id": "02a48738",
   "metadata": {},
   "source": [
    "### **Task 1:**\n",
    "\n",
    "Little Lemon needs the following information for each of the items on their menu:\n",
    "* The name of each item in the menu,\n",
    "* Each menu item’s type,\n",
    "* Each menu item’s cuisine,\n",
    "* and the price of each item in the menu."
   ]
  },
  {
   "cell_type": "code",
   "execution_count": 11,
   "id": "17ae9b05",
   "metadata": {},
   "outputs": [
    {
     "name": "stdout",
     "output_type": "stream",
     "text": [
      "('Name', 'Type', 'Cuisine', 'Price')\n",
      "('Olives', 'Starters', 'Greek', 5)\n",
      "('Greek salad', 'Main Courses', 'Greek', 15)\n",
      "('Greek yoghurt', 'Desserts', 'Greek', 7)\n",
      "('Athens White wine', 'Drinks', 'Greek', 25)\n",
      "('Minestrone', 'Starters', 'Italian', 8)\n",
      "('Pizza', 'Main Courses', 'Italian', 15)\n",
      "('Cheesecake', 'Desserts', 'Italian', 4)\n",
      "('Turkish Coffee', 'Drinks', 'Italian', 10)\n",
      "('Falafel', 'Starters', 'Turkish', 7)\n",
      "('Ice cream', 'Desserts', 'Turkish', 6)\n",
      "('Turkish Coffee', 'Drinks', 'Turkish', 10)\n",
      "('Kabasa', 'Main Courses', 'Turkish', 17)\n"
     ]
    }
   ],
   "source": [
    "menu_itms_qry = \"\"\"\n",
    "SELECT\n",
    "    mi.Name, mi.Type, mn.Cuisine, mi.Price\n",
    "FROM MenuItems AS mi\n",
    "INNER JOIN Menus AS mn\n",
    "    ON mi.ItemID = mn.ItemID\n",
    "\"\"\"\n",
    "query_return(cursor, menu_itms_qry)"
   ]
  },
  {
   "cell_type": "markdown",
   "id": "8b5e4b1c",
   "metadata": {},
   "source": [
    "### **Task 2:**\n",
    "\n",
    "Little Lemon notice that there are several menu items in the MenuItems records that are absent from the Menus table.\n",
    "\n",
    "* Help Little Lemon to identify the items that are present in the MenuItems records but absent from the Menus table \n",
    "* Columns : [Item_Name, Item_Type, Price, Cuisine]"
   ]
  },
  {
   "cell_type": "code",
   "execution_count": 15,
   "id": "fbb07d4a",
   "metadata": {},
   "outputs": [
    {
     "name": "stdout",
     "output_type": "stream",
     "text": [
      "('Name', 'Type', 'Price', 'Cuisine_Null')\n",
      "('Olives', 'Starters', 5, 'Greek')\n",
      "('Flatbread', 'Starters', 5, 'No Cuisine Value for MenuItem')\n",
      "('Minestrone', 'Starters', 8, 'Italian')\n",
      "('Tomato bread', 'Starters', 8, 'No Cuisine Value for MenuItem')\n",
      "('Falafel', 'Starters', 7, 'Turkish')\n",
      "('Hummus', 'Starters', 5, 'No Cuisine Value for MenuItem')\n",
      "('Greek salad', 'Main Courses', 15, 'Greek')\n",
      "('Bean soup', 'Main Courses', 12, 'No Cuisine Value for MenuItem')\n",
      "('Pizza', 'Main Courses', 15, 'Italian')\n",
      "('Greek yoghurt', 'Desserts', 7, 'Greek')\n",
      "('Ice cream', 'Desserts', 6, 'Turkish')\n",
      "('Cheesecake', 'Desserts', 4, 'Italian')\n",
      "('Athens White wine', 'Drinks', 25, 'Greek')\n",
      "('Corfu Red Wine', 'Drinks', 30, 'No Cuisine Value for MenuItem')\n",
      "('Turkish Coffee', 'Drinks', 10, 'Italian')\n",
      "('Turkish Coffee', 'Drinks', 10, 'Turkish')\n",
      "('Kabasa', 'Main Courses', 17, 'Turkish')\n"
     ]
    }
   ],
   "source": [
    "all_mi_on_menus = \"\"\"\n",
    "SELECT \n",
    "    mi.Name, mi.Type, mi.Price, \n",
    "    COALESCE(mn.Cuisine, 'No Cuisine Value for MenuItem') AS Cuisine_Null\n",
    "FROM MenuItems AS mi\n",
    "LEFT JOIN Menus AS mn\n",
    "USING(ItemID)\n",
    "ORDER BY mi.ItemID;\n",
    "\"\"\"\n",
    "query_return(cursor, all_mi_on_menus)"
   ]
  },
  {
   "cell_type": "code",
   "execution_count": 24,
   "id": "71599666",
   "metadata": {},
   "outputs": [
    {
     "name": "stdout",
     "output_type": "stream",
     "text": [
      "('Name', 'Type', 'Price', 'Cuisine_Null')\n",
      "('Flatbread', 'Starters', 5, 'No Cuisine Value for MenuItem')\n",
      "('Tomato bread', 'Starters', 8, 'No Cuisine Value for MenuItem')\n",
      "('Hummus', 'Starters', 5, 'No Cuisine Value for MenuItem')\n",
      "('Bean soup', 'Main Courses', 12, 'No Cuisine Value for MenuItem')\n",
      "('Corfu Red Wine', 'Drinks', 30, 'No Cuisine Value for MenuItem')\n"
     ]
    }
   ],
   "source": [
    "# Let's look just at the MenuItems w/o a Value in Menus\n",
    "mi_not_on_menus = \"\"\"\n",
    "SELECT \n",
    "    mi.Name, mi.Type, mi.Price, \n",
    "    COALESCE(mn.Cuisine, 'No Cuisine Value for MenuItem') AS Cuisine_Null\n",
    "FROM MenuItems AS mi\n",
    "LEFT JOIN Menus AS mn\n",
    "USING(ItemID)\n",
    "WHERE mn.Cuisine IS NULL\n",
    "ORDER BY mi.ItemID;\n",
    "\"\"\"\n",
    "query_return(cursor, mi_not_on_menus)"
   ]
  },
  {
   "cell_type": "markdown",
   "id": "0325ea88",
   "metadata": {},
   "source": [
    "### **Task 3**\n",
    "Little Lemon restaurant need you to help them retrieve the following information from the Bookings and the Orders tables in their MySQL database using Python:\n",
    "* Booking ID,\n",
    "* Table number,\n",
    "* Guest first name,\n",
    "* And Bill amount."
   ]
  },
  {
   "cell_type": "code",
   "execution_count": 25,
   "id": "ad9225d8",
   "metadata": {},
   "outputs": [
    {
     "name": "stdout",
     "output_type": "stream",
     "text": [
      "('BookingID', 'TableNo', 'GuestFirstName', 'BillAmount', 'Server')\n",
      "(1, 12, 'Anna', 86, 1)\n",
      "(5, 5, 'Hiroki', 43, 2)\n",
      "(4, 15, 'Marcos', 40, 4)\n",
      "(2, 11, 'Joakim', 37, 6)\n",
      "(3, 19, 'Vanessa', 37, 3)\n",
      "(6, 10, 'Diana', None, 5)\n"
     ]
    }
   ],
   "source": [
    "## want all booking regardless of orders\n",
    "booking_orders = \"\"\"\n",
    "SELECT\n",
    "    b.BookingID,\n",
    "    b.TableNo,\n",
    "    b.GuestFirstName,\n",
    "    o.BillAmount,\n",
    "    b.EmployeeID AS Server\n",
    "FROM Bookings AS b\n",
    "LEFT JOIN Orders AS o\n",
    "USING(BookingID) # share same booking iD\n",
    "ORDER BY o.BillAmount DESC\n",
    "\"\"\"\n",
    "query_return(cursor, booking_orders)"
   ]
  },
  {
   "cell_type": "markdown",
   "id": "43da6114",
   "metadata": {},
   "source": [
    "* Just a little note, the passed string does notice the comment and still runs too"
   ]
  },
  {
   "cell_type": "code",
   "execution_count": null,
   "id": "28a74d67",
   "metadata": {},
   "outputs": [],
   "source": []
  }
 ],
 "metadata": {
  "kernelspec": {
   "display_name": "Python 3 (ipykernel)",
   "language": "python",
   "name": "python3"
  },
  "language_info": {
   "codemirror_mode": {
    "name": "ipython",
    "version": 3
   },
   "file_extension": ".py",
   "mimetype": "text/x-python",
   "name": "python",
   "nbconvert_exporter": "python",
   "pygments_lexer": "ipython3",
   "version": "3.9.12"
  }
 },
 "nbformat": 4,
 "nbformat_minor": 5
}
