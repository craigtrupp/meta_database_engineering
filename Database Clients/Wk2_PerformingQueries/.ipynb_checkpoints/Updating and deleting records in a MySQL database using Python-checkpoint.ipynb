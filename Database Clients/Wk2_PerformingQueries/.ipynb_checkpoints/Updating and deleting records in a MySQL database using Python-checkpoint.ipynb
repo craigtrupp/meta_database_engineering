{
 "cells": [
  {
   "cell_type": "markdown",
   "id": "e866a4da",
   "metadata": {},
   "source": [
    "`Prerequisites`\n",
    "\n",
    "To complete this exercise, you must have access to the `little_lemon` database. As an authorized user, you need to establish a connection between Python and the database via the connector API and create a cursor object\n",
    "\n",
    "Once the connection is established, and you have a cursor object, you can select the database little_lemon and print the names of the tables\n",
    "\n",
    "You should have the four created tables from previous labs in your database envionrment\n",
    "\n",
    "\n",
    "#### **Learning objectives**\n",
    "\n",
    "* Perform UPDATE and DELETE tasks in a MySQL database using Python.\n",
    "\n",
    "\n",
    "`Scenario:`\n",
    "* Little Lemon restaurant need to update the records of customers in their database. \n",
    "* They also need to delete records related to menu items."
   ]
  },
  {
   "cell_type": "markdown",
   "id": "29c22cb6",
   "metadata": {},
   "source": [
    "### **Task 1**\n",
    "Little Lemon need a list of all guests and their booking slots. Extract the information from the bookings table using a MySQL SELECT statement and display it in a neat format.\n",
    "\n",
    "* This output will serve more as a baseline and how the changes are impacting the bookings"
   ]
  },
  {
   "cell_type": "code",
   "execution_count": 1,
   "id": "581ef8d1",
   "metadata": {},
   "outputs": [
    {
     "name": "stdout",
     "output_type": "stream",
     "text": [
      "Connection established!\n"
     ]
    }
   ],
   "source": [
    "import mysql.connector as connector\n",
    "\n",
    "try:\n",
    "    connection=connector.connect(user=\"root\", password=\"\")\n",
    "    print('Connection established!')\n",
    "except connector.Error as e:\n",
    "    print(f\"\"\"\n",
    "    Error code : {e.errno}|\n",
    "    Error message : {e.msg}\n",
    "    \"\"\")"
   ]
  },
  {
   "cell_type": "code",
   "execution_count": 2,
   "id": "78480666",
   "metadata": {},
   "outputs": [],
   "source": [
    "cursor = connection.cursor()\n",
    "\n",
    "# select little_lemon db\n",
    "cursor.execute('USE little_lemon;')"
   ]
  },
  {
   "cell_type": "code",
   "execution_count": 3,
   "id": "8163cf00",
   "metadata": {},
   "outputs": [],
   "source": [
    "## We'll be looking at various returns from the same table following updates so we'll make a function\n",
    "def booking_returns(query, curs):\n",
    "    # Execute query\n",
    "    curs.execute(query)\n",
    "    # Extract column names\n",
    "    columns = curs.column_names\n",
    "    # print columns before iterating over table's values\n",
    "    print(columns)\n",
    "    # iterate over rows and print each to see values for table following update/delete\n",
    "    for row in curs:\n",
    "        print(row)"
   ]
  },
  {
   "cell_type": "markdown",
   "id": "362943e8",
   "metadata": {},
   "source": [
    "* With the function defined we can now see about the table's returns prior to the updates in subsequent tasks"
   ]
  },
  {
   "cell_type": "code",
   "execution_count": 4,
   "id": "c9ba0948",
   "metadata": {},
   "outputs": [
    {
     "name": "stdout",
     "output_type": "stream",
     "text": [
      "('BookingID', 'TableNo', 'GuestFirstName', 'GuestLastName', 'BookingSlot', 'EmployeeID')\n",
      "(1, 12, 'Anna', 'Iversen', datetime.timedelta(seconds=68400), 1)\n",
      "(2, 12, 'Joakim', 'Iversen', datetime.timedelta(seconds=68400), 1)\n",
      "(3, 19, 'Vanessa', 'McCarthy', datetime.timedelta(seconds=54000), 3)\n",
      "(4, 15, 'Marcos', 'Romero', datetime.timedelta(seconds=63000), 4)\n",
      "(5, 5, 'Hiroki', 'Yamane', datetime.timedelta(seconds=66600), 2)\n",
      "(6, 8, 'Diana', 'Pinto', datetime.timedelta(seconds=72000), 5)\n"
     ]
    }
   ],
   "source": [
    "# Initial values for Bookings\n",
    "booking_returns('SELECT * FROM Bookings', cursor)"
   ]
  },
  {
   "cell_type": "markdown",
   "id": "db26df9a",
   "metadata": {},
   "source": [
    "### **Task 2**\n",
    "\n",
    "* Change the guest Diana Pinto’s booking to table 10 in Little Lemon’s MySQL database using an SQL UPDATE statement in Python. Once you’ve completed the statement, I'm going to copy the code above to see the new table output"
   ]
  },
  {
   "cell_type": "code",
   "execution_count": 7,
   "id": "070e522d",
   "metadata": {},
   "outputs": [],
   "source": [
    "#10 (to change back too)\n",
    "update_diana_table = \"\"\"\n",
    "UPDATE Bookings\n",
    "SET TAbleNo = 10 WHERE BookingID = 6 AND GuestFirstName = 'Diana'\n",
    "\"\"\"\n",
    "\n",
    "# execute query\n",
    "cursor.execute(update_diana_table)\n",
    "\n",
    "# commit changes to database w/connnection\n",
    "connection.commit()"
   ]
  },
  {
   "cell_type": "code",
   "execution_count": 8,
   "id": "7a45d08c",
   "metadata": {},
   "outputs": [
    {
     "name": "stdout",
     "output_type": "stream",
     "text": [
      "('BookingID', 'TableNo', 'GuestFirstName', 'GuestLastName', 'BookingSlot', 'EmployeeID')\n",
      "(1, 12, 'Anna', 'Iversen', datetime.timedelta(seconds=68400), 1)\n",
      "(2, 12, 'Joakim', 'Iversen', datetime.timedelta(seconds=68400), 1)\n",
      "(3, 19, 'Vanessa', 'McCarthy', datetime.timedelta(seconds=54000), 3)\n",
      "(4, 15, 'Marcos', 'Romero', datetime.timedelta(seconds=63000), 4)\n",
      "(5, 5, 'Hiroki', 'Yamane', datetime.timedelta(seconds=66600), 2)\n",
      "(6, 10, 'Diana', 'Pinto', datetime.timedelta(seconds=72000), 5)\n"
     ]
    }
   ],
   "source": [
    "# Let's look at the updated values with a call to our function\n",
    "booking_returns('SELECT * FROM Bookings', cursor)"
   ]
  },
  {
   "cell_type": "markdown",
   "id": "39d03fbe",
   "metadata": {},
   "source": [
    "* Cool, we can see that following the commit we have successfully updated the table based on the business need\n",
    "\n",
    "### **Task 3:**\n",
    "\n",
    "Little Lemon has encountered a conflict with two bookings. \n",
    "* To resolve the conflict, you need to update the record for the guest `Joakim Iversen`.\n",
    "\n",
    "Update Joakim’s booking in the MySQL database using Python as follows:\n",
    "* Change the guest’s table number to 11.\n",
    "* Change the EmployeeID of the guest’s waiter to 6."
   ]
  },
  {
   "cell_type": "code",
   "execution_count": 10,
   "id": "79a7405c",
   "metadata": {},
   "outputs": [
    {
     "name": "stdout",
     "output_type": "stream",
     "text": [
      "('BookingID', 'TableNo', 'GuestFirstName', 'GuestLastName', 'BookingSlot', 'EmployeeID')\n",
      "(1, 12, 'Anna', 'Iversen', datetime.timedelta(seconds=68400), 1)\n",
      "(2, 11, 'Joakim', 'Iversen', datetime.timedelta(seconds=68400), 6)\n",
      "(3, 19, 'Vanessa', 'McCarthy', datetime.timedelta(seconds=54000), 3)\n",
      "(4, 15, 'Marcos', 'Romero', datetime.timedelta(seconds=63000), 4)\n",
      "(5, 5, 'Hiroki', 'Yamane', datetime.timedelta(seconds=66600), 2)\n",
      "(6, 10, 'Diana', 'Pinto', datetime.timedelta(seconds=72000), 5)\n"
     ]
    }
   ],
   "source": [
    "update_joakim = \"\"\"\n",
    "UPDATE Bookings\n",
    "SET TableNo = 11, EmployeeID = 6\n",
    "WHERE BookingID = 2 AND GuestFirstName = 'Joakim'\n",
    "\"\"\"\n",
    "# execute update\n",
    "cursor.execute(update_joakim)\n",
    "# commit to database\n",
    "connection.commit()\n",
    "# review table output to match expected as detailed in lesson\n",
    "booking_returns('SELECT * FROM Bookings', cursor)"
   ]
  },
  {
   "cell_type": "markdown",
   "id": "c0dfed0f",
   "metadata": {},
   "source": [
    "### **Task 4**\n",
    "Little Lemon restaurant didn’t receive their regular supply of ingredients today. \n",
    "- This means that they can’t provide any Greek cuisine for their guests. \n",
    "- They need to delete all Greek cuisine from their menu until the supply of ingredients is restored. "
   ]
  },
  {
   "cell_type": "code",
   "execution_count": 11,
   "id": "cc843109",
   "metadata": {},
   "outputs": [
    {
     "name": "stdout",
     "output_type": "stream",
     "text": [
      "('MenuID', 'ItemID', 'Cuisine')\n",
      "(1, 1, 'Greek')\n",
      "(1, 7, 'Greek')\n",
      "(1, 10, 'Greek')\n",
      "(1, 13, 'Greek')\n",
      "(2, 3, 'Italian')\n",
      "(2, 9, 'Italian')\n",
      "(2, 12, 'Italian')\n",
      "(2, 15, 'Italian')\n",
      "(3, 5, 'Turkish')\n",
      "(3, 11, 'Turkish')\n",
      "(3, 16, 'Turkish')\n",
      "(3, 17, 'Turkish')\n"
     ]
    }
   ],
   "source": [
    "# Let's see what menus looks like before hand - the function is more dynamic than it's name lol\n",
    "booking_returns('SELECT * FROM Menus', cursor)"
   ]
  },
  {
   "cell_type": "code",
   "execution_count": 12,
   "id": "2263d85b",
   "metadata": {},
   "outputs": [
    {
     "name": "stdout",
     "output_type": "stream",
     "text": [
      "('MenuID', 'ItemID', 'Cuisine')\n",
      "(2, 3, 'Italian')\n",
      "(2, 9, 'Italian')\n",
      "(2, 12, 'Italian')\n",
      "(2, 15, 'Italian')\n",
      "(3, 5, 'Turkish')\n",
      "(3, 11, 'Turkish')\n",
      "(3, 16, 'Turkish')\n",
      "(3, 17, 'Turkish')\n"
     ]
    }
   ],
   "source": [
    "# so now we want to delete all Greek items\n",
    "delete_stmt = \"\"\"\n",
    "DELETE FROM Menus WHERE Cuisine = 'Greek'\n",
    "\"\"\"\n",
    "# execute\n",
    "cursor.execute(delete_stmt)\n",
    "# commit to database connection\n",
    "connection.commit()\n",
    "# review Menus return\n",
    "booking_returns('SELECT * FROM Menus', cursor)"
   ]
  }
 ],
 "metadata": {
  "kernelspec": {
   "display_name": "Python 3 (ipykernel)",
   "language": "python",
   "name": "python3"
  },
  "language_info": {
   "codemirror_mode": {
    "name": "ipython",
    "version": 3
   },
   "file_extension": ".py",
   "mimetype": "text/x-python",
   "name": "python",
   "nbconvert_exporter": "python",
   "pygments_lexer": "ipython3",
   "version": "3.9.12"
  }
 },
 "nbformat": 4,
 "nbformat_minor": 5
}
