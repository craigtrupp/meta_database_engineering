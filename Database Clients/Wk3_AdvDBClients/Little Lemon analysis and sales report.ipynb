{
 "cells": [
  {
   "cell_type": "markdown",
   "id": "056d2b90",
   "metadata": {},
   "source": [
    "## Little Lemon Analysis & Sales Report\n",
    "* Continuation of Final Project Section\n",
    "\n",
    "<br>\n",
    "\n",
    "### **Task 1:**\n",
    "`Complete the following steps to establish a connection pool:`\n",
    "\n",
    "- To create a connection pool, import MySQLConnectionPool class from MySQL Connector/Python.\n",
    "\n",
    "- To find the information on the error, import the Error class from MySQL Connector/Python.\n",
    "\n",
    "- Define your database configurations as a Python dictionary object called dbconfig.\n",
    "\n",
    "- Establish a connection pool [pool_name = pool_b] with two connections. \n",
    "\n",
    "- Implement error handling using a try-except block in case the connection fails. "
   ]
  },
  {
   "cell_type": "code",
   "execution_count": 3,
   "id": "12c3c4d8",
   "metadata": {},
   "outputs": [
    {
     "name": "stdout",
     "output_type": "stream",
     "text": [
      "The connection pool is created with a name:  pool_b\n",
      "The pool size is: 2\n"
     ]
    },
    {
     "ename": "NameError",
     "evalue": "name 'pool_b' is not defined",
     "output_type": "error",
     "traceback": [
      "\u001b[0;31m---------------------------------------------------------------------------\u001b[0m",
      "\u001b[0;31mNameError\u001b[0m                                 Traceback (most recent call last)",
      "\u001b[0;32m/var/folders/r8/mmfd5rgj7v51_80zhnq8v9zc0000gn/T/ipykernel_2817/2152375352.py\u001b[0m in \u001b[0;36m<module>\u001b[0;34m\u001b[0m\n\u001b[1;32m     23\u001b[0m \u001b[0;31m# Validate Connetion\u001b[0m\u001b[0;34m\u001b[0m\u001b[0;34m\u001b[0m\u001b[0m\n\u001b[1;32m     24\u001b[0m \u001b[0mcreate_pool\u001b[0m\u001b[0;34m(\u001b[0m\u001b[0;34m)\u001b[0m\u001b[0;34m\u001b[0m\u001b[0;34m\u001b[0m\u001b[0m\n\u001b[0;32m---> 25\u001b[0;31m \u001b[0mprint\u001b[0m\u001b[0;34m(\u001b[0m\u001b[0;34mf'Is the pool connected : {pool_b.is_connected()}'\u001b[0m\u001b[0;34m)\u001b[0m\u001b[0;34m\u001b[0m\u001b[0;34m\u001b[0m\u001b[0m\n\u001b[0m",
      "\u001b[0;31mNameError\u001b[0m: name 'pool_b' is not defined"
     ]
    }
   ],
   "source": [
    "from mysql.connector.pooling import MySQLConnectionPool\n",
    "from mysql.connector import Error\n",
    "\n",
    "dbconfig = {\n",
    "    'database': 'little_lemon_db',\n",
    "    'user': 'root',\n",
    "    'password': ''\n",
    "}\n",
    "def create_pool():\n",
    "    try:\n",
    "        pool_b = MySQLConnectionPool(pool_name = \"pool_b\",\n",
    "                               pool_size = 2, #default is 5\n",
    "                               **dbconfig) # unpack argument in dictionary\n",
    "        print(\"The connection pool is created with a name: \",pool_b.pool_name)\n",
    "        print(\"The pool size is:\",pool_b.pool_size)\n",
    "        return pool_b\n",
    "    except Error as er:\n",
    "        print(\"Error code:\", er.errno)\n",
    "        print(\"Error message:\", er.msg)\n",
    "\n",
    "\n",
    "# Validate Connetion\n",
    "pool = create_pool()\n",
    "print(f'Is the pool connected : {pool_b.is_connected()}')"
   ]
  },
  {
   "cell_type": "code",
   "execution_count": null,
   "id": "a5952bfc",
   "metadata": {},
   "outputs": [],
   "source": [
    "pool_b"
   ]
  }
 ],
 "metadata": {
  "kernelspec": {
   "display_name": "Python 3 (ipykernel)",
   "language": "python",
   "name": "python3"
  },
  "language_info": {
   "codemirror_mode": {
    "name": "ipython",
    "version": 3
   },
   "file_extension": ".py",
   "mimetype": "text/x-python",
   "name": "python",
   "nbconvert_exporter": "python",
   "pygments_lexer": "ipython3",
   "version": "3.9.12"
  }
 },
 "nbformat": 4,
 "nbformat_minor": 5
}
