{
 "cells": [
  {
   "cell_type": "markdown",
   "id": "94e51e35",
   "metadata": {},
   "source": [
    "`Prerequisites`\n",
    "\n",
    "To complete this exercise, you must have access to the `little_lemon` database. As an authorized user, you need to establish a connection between Python and the database via the connector API and create a cursor object\n",
    "\n",
    "Once the connection is established, and you have a cursor object, you can select the database little_lemon and print the names of the tables\n",
    "\n",
    "You should have the four created tables from previous labs in your database envionrment\n",
    "\n",
    "\n",
    "#### **Learning objectives:**\n",
    "* Make use of MySQL functions with Python\n",
    "\n",
    "\n",
    "`Scenario:`\n",
    "\n",
    "There are several occasions where Little Lemon needs to perform routine operations, some of them include \n",
    "* total sales, \n",
    "* the total number of guests, \n",
    "* the number of items in each cuisine, \n",
    "* the full name of the guests, and so on. \n",
    "\n",
    "\n",
    "These are only a few examples and writing queries again and again for such routine tasks is not trivial. \n",
    "* You can help Little Lemon to handle such tasks using `MySQL functions in their python-based application`."
   ]
  },
  {
   "cell_type": "code",
   "execution_count": 1,
   "id": "917e58e3",
   "metadata": {},
   "outputs": [
    {
     "name": "stdout",
     "output_type": "stream",
     "text": [
      "Connection established!\n"
     ]
    }
   ],
   "source": [
    "import mysql.connector as connector\n",
    "\n",
    "try:\n",
    "    connection=connector.connect(user=\"root\", password=\"\")\n",
    "    print('Connection established!')\n",
    "except connector.Error as e:\n",
    "    print(f\"\"\"\n",
    "    Error code : {e.errno}|\n",
    "    Error message : {e.msg}\n",
    "    \"\"\")"
   ]
  },
  {
   "cell_type": "code",
   "execution_count": 2,
   "id": "cf45e27a",
   "metadata": {},
   "outputs": [
    {
     "data": {
      "text/plain": [
       "'We are connected to : little_lemon'"
      ]
     },
     "execution_count": 2,
     "metadata": {},
     "output_type": "execute_result"
    }
   ],
   "source": [
    "cursor = connection.cursor()\n",
    "\n",
    "# select little_lemon db\n",
    "cursor.execute('USE little_lemon;')\n",
    "\n",
    "# print out db in use\n",
    "f'We are connected to : {connection.database}'"
   ]
  },
  {
   "cell_type": "markdown",
   "id": "9ec7a40f",
   "metadata": {},
   "source": [
    "### **Task 1**\n",
    "* Along with the `booking ID`, little lemon needs to add the `full name of the guests in upper case` on their invoices. \n",
    "\n",
    "`Expected Output`\n",
    "![Task 1 Expected Output](images/1_1.png)"
   ]
  },
  {
   "cell_type": "code",
   "execution_count": 3,
   "id": "335a8bed",
   "metadata": {},
   "outputs": [
    {
     "name": "stdout",
     "output_type": "stream",
     "text": [
      "('BookingID', 'GuestFullName')\n",
      "(1, 'ANNA IVERSEN')\n",
      "(2, 'JOAKIM IVERSEN')\n",
      "(3, 'VANESSA MCCARTHY')\n",
      "(4, 'MARCOS ROMERO')\n",
      "(5, 'HIROKI YAMANE')\n",
      "(6, 'DIANA PINTO')\n"
     ]
    }
   ],
   "source": [
    "invoice_guest_casing = \"\"\"\n",
    "SELECT\n",
    "    BookingID,\n",
    "    CONCAT(UPPER(GuestFirstName), ' ', UPPER(GuestLastName)) AS GuestFullName\n",
    "FROM Bookings\n",
    "\"\"\"\n",
    "# execute cursor query\n",
    "cursor.execute(invoice_guest_casing)\n",
    "# print columns\n",
    "print(cursor.column_names)\n",
    "for row in cursor.fetchall():\n",
    "    print(row)"
   ]
  },
  {
   "cell_type": "markdown",
   "id": "ef6442b9",
   "metadata": {},
   "source": [
    "### **Task 2:** \n",
    "\n",
    "Little lemon needs to know the following statistics at closing:\n",
    "* Number of bookings\n",
    "* Total sale\n",
    "* Average sale\n",
    "\n",
    "`Note`: **We only have one day of Details in Orders, Hence the No Date value in the return**\n",
    "\n",
    "`Expected Output`\n",
    "![2 Expected Output](images/1_2.png)"
   ]
  },
  {
   "cell_type": "code",
   "execution_count": 4,
   "id": "64fd58db",
   "metadata": {},
   "outputs": [
    {
     "name": "stdout",
     "output_type": "stream",
     "text": [
      "Returned statistics:\n",
      "[5, Decimal('243'), Decimal('48.6000')]\n",
      "Today's statistics:\n",
      "Number of bookings: 5\n",
      "Total sale: 243\n",
      "Average sale: 48.6000\n"
     ]
    }
   ],
   "source": [
    "daily_statistics = \"\"\"\n",
    "SELECT\n",
    "    COUNT(*) AS bookings,\n",
    "    SUM(BillAmount) AS sales,\n",
    "    AVG(BillAmount) AS avg_sale\n",
    "FROM Orders\n",
    "\"\"\"\n",
    "cursor.execute(daily_statistics)\n",
    "print(\"Returned statistics:\")\n",
    "rows = cursor.fetchall()\n",
    "for row in rows:\n",
    "    print([row[i] for i in range(len(row))])\n",
    "    print(\"Today's statistics:\")\n",
    "    print(f\"Number of bookings: {row[0]}\")\n",
    "    print(f\"Total sale: {row[1]}\")\n",
    "    print(f\"Average sale: {row[2]}\")"
   ]
  },
  {
   "cell_type": "markdown",
   "id": "d31cd863",
   "metadata": {},
   "source": [
    "### **Task 3:**\n",
    "\n",
    "Little lemon needs to know the `number of bookings` for each table. \n",
    "\n",
    "The expected output results should be the same as the following screenshot:\n",
    "![Bookings Number](images/1_3.png)"
   ]
  },
  {
   "cell_type": "code",
   "execution_count": 7,
   "id": "4ab70099",
   "metadata": {},
   "outputs": [
    {
     "name": "stdout",
     "output_type": "stream",
     "text": [
      "('Table number', 'n_booking')\n",
      "(12, 2)\n",
      "(19, 1)\n",
      "(15, 1)\n",
      "(5, 1)\n",
      "(8, 1)\n"
     ]
    }
   ],
   "source": [
    "n_bookings = \"\"\"\n",
    "SELECT\n",
    "    TableNo,\n",
    "    COUNT(*) AS n_booking\n",
    "FROM Bookings\n",
    "GROUP BY TableNo;\n",
    "\"\"\"\n",
    "cursor.execute(n_bookings)\n",
    "n_booking_rows = cursor.fetchall()\n",
    "print(('Table number', 'n_booking'))\n",
    "for table_count in n_booking_rows:\n",
    "    print((table_count[0], table_count[1]))"
   ]
  },
  {
   "cell_type": "markdown",
   "id": "0b0d7fe0",
   "metadata": {},
   "source": [
    "### **Task 4:**\n",
    "\n",
    "Little lemon wants to create three arrival slots for the guests based on the booking hour:\n",
    "* Late afternoon: for hours 15 and 16 \n",
    "* Evening: for hours 17 and 18\n",
    "* Night: for hours 19 and 20\n",
    "\n",
    "`Task`:\n",
    "Help little lemon to create the above slots and display the booking ID, guest name, and arrival slot on the kitchen screen so that the staff can plan accordingly. \n",
    "\n",
    "![Arrival Slots](images/1_4.png)"
   ]
  },
  {
   "cell_type": "code",
   "execution_count": 8,
   "id": "2a239fdd",
   "metadata": {},
   "outputs": [
    {
     "name": "stdout",
     "output_type": "stream",
     "text": [
      "('BookingID', 'Guest_Name', 'Arrival_slot')\n",
      "(1, 'Anna Iversen', 'Night')\n",
      "(2, 'Joakim Iversen', 'Night')\n",
      "(3, 'Vanessa McCarthy', 'Late Afternoon')\n",
      "(4, 'Marcos Romero', 'Evening')\n",
      "(5, 'Hiroki Yamane', 'Evening')\n",
      "(6, 'Diana Pinto', 'Night')\n"
     ]
    }
   ],
   "source": [
    "arrival_slot_query = \"\"\"\n",
    "SELECT\n",
    "    BookingID,\n",
    "    CONCAT(GuestFirstName, ' ', GuestLastName) AS Guest_Name,\n",
    "    CASE \n",
    "        WHEN HOUR(BookingSlot) in (15, 16) THEN 'Late Afternoon'\n",
    "        WHEN HOUR(BookingSlot) in (17, 18) THEN 'Evening'\n",
    "        WHEN HOUR(BookingSlot) in (19, 20) THEN 'Night'\n",
    "        ELSE 'Earlier in Day'\n",
    "    END AS Arrival_slot\n",
    "FROM Bookings\n",
    "\"\"\"\n",
    "cursor.execute(arrival_slot_query)\n",
    "print(cursor.column_names)\n",
    "for row in cursor.fetchall():\n",
    "    print((row[0], row[1], row[2]))"
   ]
  }
 ],
 "metadata": {
  "kernelspec": {
   "display_name": "Python 3 (ipykernel)",
   "language": "python",
   "name": "python3"
  },
  "language_info": {
   "codemirror_mode": {
    "name": "ipython",
    "version": 3
   },
   "file_extension": ".py",
   "mimetype": "text/x-python",
   "name": "python",
   "nbconvert_exporter": "python",
   "pygments_lexer": "ipython3",
   "version": "3.9.12"
  }
 },
 "nbformat": 4,
 "nbformat_minor": 5
}
