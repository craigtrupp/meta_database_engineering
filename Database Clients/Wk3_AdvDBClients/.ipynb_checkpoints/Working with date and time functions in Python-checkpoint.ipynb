{
 "cells": [
  {
   "cell_type": "markdown",
   "id": "12614493",
   "metadata": {},
   "source": [
    "`Prerequisites`\n",
    "\n",
    "To complete this exercise, you must have access to the `little_lemon` database. As an authorized user, you need to establish a connection between Python and the database via the connector API and create a cursor object\n",
    "\n",
    "Once the connection is established, and you have a cursor object, you can select the database little_lemon and print the names of the tables\n",
    "\n",
    "You should have the four created tables from previous labs in your database envionrment\n",
    "\n",
    "\n",
    "#### **Learning objectives:**\n",
    "* Work with date and time functions in Python\n",
    "\n",
    "`Scenario:`\n",
    "\n",
    "Little Lemon needs to schedule its staff’s duties according to the restaurant’s peak hours. They also want to display the guest’s name and their expected arrival time kitchen screen to keep the staff informed. These and several other similar tasks, such as changing the booking time, require working with the date and time column. \n",
    "\n",
    "You are tasked to help Little Lemon work with the date and time columns using Python for their Python-based application."
   ]
  },
  {
   "cell_type": "code",
   "execution_count": 1,
   "id": "b7aa314e",
   "metadata": {},
   "outputs": [
    {
     "name": "stdout",
     "output_type": "stream",
     "text": [
      "Connection established!\n"
     ]
    }
   ],
   "source": [
    "import mysql.connector as connector\n",
    "\n",
    "try:\n",
    "    connection=connector.connect(user=\"root\", password=\"\")\n",
    "    print('Connection established!')\n",
    "except connector.Error as e:\n",
    "    print(f\"\"\"\n",
    "    Error code : {e.errno}|\n",
    "    Error message : {e.msg}\n",
    "    \"\"\")"
   ]
  },
  {
   "cell_type": "code",
   "execution_count": 2,
   "id": "4f3b8be9",
   "metadata": {},
   "outputs": [
    {
     "data": {
      "text/plain": [
       "'We are connected to : little_lemon'"
      ]
     },
     "execution_count": 2,
     "metadata": {},
     "output_type": "execute_result"
    }
   ],
   "source": [
    "cursor = connection.cursor()\n",
    "\n",
    "# select little_lemon db\n",
    "cursor.execute('USE little_lemon;')\n",
    "\n",
    "# print out db in use\n",
    "f'We are connected to : {connection.database}'"
   ]
  },
  {
   "cell_type": "markdown",
   "id": "9dbffd44",
   "metadata": {},
   "source": [
    "### **Task 1:**\n",
    "\n",
    "Little Lemon wants to retrieve the number of bookings in each hour so that they can schedule their staff’s duties accordingly.\n",
    "\n",
    "`Expected Output:`\n",
    "![Task 1](images/2_1.png)"
   ]
  },
  {
   "cell_type": "code",
   "execution_count": 6,
   "id": "e553cca3",
   "metadata": {},
   "outputs": [
    {
     "name": "stdout",
     "output_type": "stream",
     "text": [
      "Upcoming Bookings\n",
      "Hour: 15 <<>> 1 Booking/s\n",
      "Hour: 17 <<>> 1 Booking/s\n",
      "Hour: 18 <<>> 1 Booking/s\n",
      "Hour: 19 <<>> 2 Booking/s\n",
      "Hour: 20 <<>> 1 Booking/s\n"
     ]
    }
   ],
   "source": [
    "upcoming_bookings = \"\"\"\n",
    "SELECT\n",
    "    HOUR(BookingSlot) AS Hour,\n",
    "    COUNT(*) AS Bookings\n",
    "FROM Bookings\n",
    "GROUP BY Hour\n",
    "ORDER BY Hour\n",
    "\"\"\"\n",
    "cursor.execute(upcoming_bookings)\n",
    "print('Upcoming Bookings')\n",
    "for row in cursor.fetchall():\n",
    "    print(f'Hour: {row[0]} <<>> {row[1]} Booking/s')"
   ]
  },
  {
   "cell_type": "markdown",
   "id": "23988227",
   "metadata": {},
   "source": [
    "### **Task 2:**\n",
    "\n",
    "Little Lemon needs to display the following information for their staff:\n",
    "* Each guest’s table number,\n",
    "* Each guest’s full name,\n",
    "* And the expected arrival time in hours and minutes of each guest (e.g., 15 hours and 0 mins).\n",
    "\n",
    "![Datetime Output 2](images/2_2.png)"
   ]
  },
  {
   "cell_type": "code",
   "execution_count": 24,
   "id": "e2450d4a",
   "metadata": {},
   "outputs": [
    {
     "name": "stdout",
     "output_type": "stream",
     "text": [
      "2023-07-11 12:45:30.725297 <class 'datetime.datetime'> <class 'datetime.datetime'>\n",
      "2023-07-11\n",
      "12:45:30.725956\n",
      "2023-07-11 14:45:30.726521\n"
     ]
    }
   ],
   "source": [
    "from datetime import datetime as dt\n",
    "from datetime import timedelta as td\n",
    "print(dt.now(), type(dt.now()), type(dt.today()))\n",
    "print(dt.date(dt.now())) # have to pass a datetime to dt.date\n",
    "print(dt.time(dt.today())) # needs another datetime\n",
    "print(dt.now() + td(hours=2)) # add a 'time delta' to a datetime object"
   ]
  },
  {
   "cell_type": "code",
   "execution_count": 22,
   "id": "75e96e7d",
   "metadata": {},
   "outputs": [
    {
     "name": "stdout",
     "output_type": "stream",
     "text": [
      "['__class__', '__delattr__', '__dir__', '__doc__', '__eq__', '__format__', '__ge__', '__getattribute__', '__gt__', '__hash__', '__init__', '__init_subclass__', '__le__', '__lt__', '__ne__', '__new__', '__reduce__', '__reduce_ex__', '__repr__', '__setattr__', '__sizeof__', '__str__', '__subclasshook__', 'dst', 'fold', 'fromisoformat', 'hour', 'isoformat', 'max', 'microsecond', 'min', 'minute', 'replace', 'resolution', 'second', 'strftime', 'tzinfo', 'tzname', 'utcoffset']\n"
     ]
    }
   ],
   "source": [
    "print(dir(dt.time(dt.today())))\n",
    "# https://pythontic.com/datetime/datetime/time"
   ]
  },
  {
   "cell_type": "code",
   "execution_count": 29,
   "id": "d253784e",
   "metadata": {},
   "outputs": [
    {
     "data": {
      "text/plain": [
       "((int, 48), builtin_function_or_method)"
      ]
     },
     "execution_count": 29,
     "metadata": {},
     "output_type": "execute_result"
    }
   ],
   "source": [
    "(type(dt.time(dt.today()).minute), dt.time(dt.today()).minute), type(dt.time(dt.today()).strftime)"
   ]
  },
  {
   "cell_type": "code",
   "execution_count": 34,
   "id": "3832cebd",
   "metadata": {},
   "outputs": [
    {
     "name": "stdout",
     "output_type": "stream",
     "text": [
      "19:00:00 <class 'datetime.timedelta'> 1900-01-01 19:00:00 <class 'datetime.datetime'>\n",
      "19:00:00 <class 'datetime.timedelta'> 1900-01-01 19:00:00 <class 'datetime.datetime'>\n",
      "15:00:00 <class 'datetime.timedelta'> 1900-01-01 15:00:00 <class 'datetime.datetime'>\n",
      "17:30:00 <class 'datetime.timedelta'> 1900-01-01 17:30:00 <class 'datetime.datetime'>\n",
      "18:30:00 <class 'datetime.timedelta'> 1900-01-01 18:30:00 <class 'datetime.datetime'>\n",
      "20:00:00 <class 'datetime.timedelta'> 1900-01-01 20:00:00 <class 'datetime.datetime'>\n"
     ]
    }
   ],
   "source": [
    "try_time = \"\"\"\n",
    "SELECT \n",
    "    BookingSlot\n",
    "FROM Bookings\n",
    "\"\"\"\n",
    "cursor.execute(try_time)\n",
    "for row in cursor.fetchall():\n",
    "    #print(row[0], type(row[0]))\n",
    "    booking = row[0]\n",
    "    # Change a time delta object (received from query) to datetime strptime (needs a string not timedelta though)\n",
    "    booking_dt = dt.strptime(str(booking), '%H:%M:%S')\n",
    "    print(booking, type(booking), booking_dt, type(booking_dt))"
   ]
  },
  {
   "cell_type": "markdown",
   "id": "cdd73f7a",
   "metadata": {},
   "source": [
    "* Now let's solve it"
   ]
  },
  {
   "cell_type": "code",
   "execution_count": 40,
   "id": "4262087b",
   "metadata": {},
   "outputs": [
    {
     "name": "stdout",
     "output_type": "stream",
     "text": [
      "The guests and their booking slots are:\n",
      "[Table no:] 19 >> Vanessa McCarthy is expected to arrive at: 15 hrs and 0 mins\n",
      "[Table no:] 15 >> Marcos Romero is expected to arrive at: 17 hrs and 30 mins\n",
      "[Table no:] 5 >> Hiroki Yamane is expected to arrive at: 18 hrs and 30 mins\n",
      "[Table no:] 12 >> Anna Iversen is expected to arrive at: 19 hrs and 0 mins\n",
      "[Table no:] 12 >> Joakim Iversen is expected to arrive at: 19 hrs and 0 mins\n",
      "[Table no:] 8 >> Diana Pinto is expected to arrive at: 20 hrs and 0 mins\n"
     ]
    }
   ],
   "source": [
    "guest_booking_slots = \"\"\"\n",
    "SELECT \n",
    "    TableNo,\n",
    "    CONCAT(GuestFirstName, ' ', GuestLastName) AS GuestName,\n",
    "    BookingSlot\n",
    "FROM Bookings\n",
    "ORDER BY HOUR(BookingSlot)\n",
    "\"\"\"\n",
    "# Execute query \n",
    "cursor.execute(guest_booking_slots)\n",
    "\n",
    "# Fetch all results from cursor\n",
    "results = cursor.fetchall()\n",
    "# print default output before iteration\n",
    "print('The guests and their booking slots are:')\n",
    "for row in results:\n",
    "    table_no = row[0]\n",
    "    booking_name = row[1]\n",
    "    booking_datetime = dt.strptime(str(row[2]), '%H:%M:%S')\n",
    "    # assign to some values then build string\n",
    "    booking_dt_hours, booking_dt_mins = booking_datetime.hour, booking_datetime.minute\n",
    "    print(f'[Table no:] {table_no} >> {booking_name} is expected to arrive at: {booking_dt_hours} hrs and {booking_dt_mins} mins')"
   ]
  },
  {
   "cell_type": "markdown",
   "id": "861c68a9",
   "metadata": {},
   "source": [
    "### **Task 3:**\n",
    "* A guest with `booking ID 2` and `table number 12` wants to change their arrival time by one hour from 7pm to 8pm. \n",
    "\n",
    "`Expected Output`\n",
    "\n",
    "![Task 3 Duration Change](images/2_3.png)"
   ]
  },
  {
   "cell_type": "code",
   "execution_count": 49,
   "id": "7c4e214f",
   "metadata": {},
   "outputs": [
    {
     "name": "stdout",
     "output_type": "stream",
     "text": [
      "Booking time change ALERT!!\n",
      "Booking ID: 2\n",
      "Table number: 12\n",
      "Booked slot: 19:00:00 \n",
      "New arrival time: 20:00:00\n",
      "    \n"
     ]
    }
   ],
   "source": [
    "booking_change = \"\"\"\n",
    "SELECT \n",
    "    BookingID,\n",
    "    TableNo,\n",
    "    BookingSlot\n",
    "FROM Bookings\n",
    "WHERE BookingID = 2\n",
    "\"\"\"\n",
    "\n",
    "# Execute and fetch\n",
    "cursor.execute(booking_change)\n",
    "\n",
    "results = cursor.fetchall()\n",
    "\n",
    "print(\"Booking time change ALERT!!\")\n",
    "for row in results:\n",
    "    booking_datetime = dt.strptime(str(row[2]), '%H:%M:%S')\n",
    "    new_arrival = booking_datetime + td(hours=1)\n",
    "    print(\n",
    "    f\"\"\"Booking ID: {row[0]}\n",
    "Table number: {row[1]}\n",
    "Booked slot: {booking_datetime.time()} \n",
    "New arrival time: {new_arrival.time()}\n",
    "    \"\"\")\n",
    "# # Can call the time to just pull the time"
   ]
  },
  {
   "cell_type": "markdown",
   "id": "2168a5c6",
   "metadata": {},
   "source": [
    "```python\n",
    "\"\"\"UPDATE Bookings \n",
    "SET BookingSlot=ADDTIME(BookingSlot,\"1:00:00\") \n",
    "WHERE BookingID=2;\"\"\"\n",
    "\n",
    "# The SQL query is: \n",
    "sql_query = \"\"\"SELECT \n",
    "BookingID, \n",
    "TableNo, \n",
    "BookingSlot, \n",
    "ADDTIME(BookingSlot,\"1:00:00\") as NewTime \n",
    "FROM Bookings\n",
    "WHERE TableNo = 12 AND BookingID = 2;\"\"\"\n",
    "```\n",
    "\n",
    "* Could do something like this too with the ADDTIME function"
   ]
  },
  {
   "cell_type": "code",
   "execution_count": 50,
   "id": "9e5d2bae",
   "metadata": {},
   "outputs": [
    {
     "name": "stdout",
     "output_type": "stream",
     "text": [
      "The cursor is closed.\n",
      "MySQL connection is closed.\n"
     ]
    }
   ],
   "source": [
    "# Let's close the cursor and the connection\n",
    "if connection.is_connected():\n",
    "    cursor.close()\n",
    "    print(\"The cursor is closed.\")\n",
    "    connection.close()\n",
    "    print(\"MySQL connection is closed.\")\n",
    "else:\n",
    "    print(\"Connection is already closed\")"
   ]
  },
  {
   "cell_type": "code",
   "execution_count": null,
   "id": "6b6d3786",
   "metadata": {},
   "outputs": [],
   "source": []
  }
 ],
 "metadata": {
  "kernelspec": {
   "display_name": "Python 3 (ipykernel)",
   "language": "python",
   "name": "python3"
  },
  "language_info": {
   "codemirror_mode": {
    "name": "ipython",
    "version": 3
   },
   "file_extension": ".py",
   "mimetype": "text/x-python",
   "name": "python",
   "nbconvert_exporter": "python",
   "pygments_lexer": "ipython3",
   "version": "3.9.12"
  }
 },
 "nbformat": 4,
 "nbformat_minor": 5
}
