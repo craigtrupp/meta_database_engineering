{
 "cells": [
  {
   "cell_type": "markdown",
   "id": "766231a2",
   "metadata": {},
   "source": [
    "`Prerequisites`\n",
    "\n",
    "To complete this exercise, you must have access to the `little_lemon` database. As an authorized user, you need to establish a connection between Python and the database via the connector API and create a cursor object\n",
    "\n",
    "Once the connection is established, and you have a cursor object, you can select the database `little_lemon` and print the names of the tables\n",
    "\n",
    "Tables have been used throughout the course's various sections\n",
    "\n",
    "\n",
    "#### **Learning objectives:**\n",
    "* Access stored procedures in a MySQL database using Python\n",
    "\n",
    "\n",
    "`Scenario:`\n",
    "\n",
    "Little lemon need to perform some tasks on daily basis, and they involve extracting data from one or more tables. \n",
    "\n",
    "The tasks include:\n",
    "* finding the guest with maximum spending, \n",
    "* retrieving the bookings for no arrival, \n",
    "* and displaying the order status to the guests. "
   ]
  },
  {
   "cell_type": "code",
   "execution_count": 21,
   "id": "df3bc32c",
   "metadata": {},
   "outputs": [
    {
     "name": "stdout",
     "output_type": "stream",
     "text": [
      "Connection established!\n"
     ]
    }
   ],
   "source": [
    "import mysql.connector as connector\n",
    "try:\n",
    "    connection=connector.connect(user=\"root\", password=\"\")\n",
    "    print('Connection established!')\n",
    "except connection.Error as e:\n",
    "    print(f\"\"\"\n",
    "    Error code : {e.errno}|\n",
    "    Error message : {e.msg}\n",
    "    \"\"\")"
   ]
  },
  {
   "cell_type": "code",
   "execution_count": 22,
   "id": "0787b03a",
   "metadata": {},
   "outputs": [
    {
     "data": {
      "text/plain": [
       "['automobile',\n",
       " 'information_schema',\n",
       " 'jewelrystore_db',\n",
       " 'little_lemon',\n",
       " 'Lucky_Shrub',\n",
       " 'luckyshrub_db',\n",
       " 'Mangata_Gallo',\n",
       " 'mysql',\n",
       " 'performance_schema',\n",
       " 'restaurant',\n",
       " 'soccer',\n",
       " 'sys']"
      ]
     },
     "execution_count": 22,
     "metadata": {},
     "output_type": "execute_result"
    }
   ],
   "source": [
    "# create cursor\n",
    "cursor = connection.cursor()\n",
    "cursor.execute('SHOW DATABASES')\n",
    "[db[0] for db in cursor.fetchall()] # see databases"
   ]
  },
  {
   "cell_type": "code",
   "execution_count": 23,
   "id": "15e2ac9f",
   "metadata": {},
   "outputs": [
    {
     "data": {
      "text/plain": [
       "'little_lemon'"
      ]
     },
     "execution_count": 23,
     "metadata": {},
     "output_type": "execute_result"
    }
   ],
   "source": [
    "cursor.execute('USE little_lemon')\n",
    "# What's our db (did this from scratch to try and remember)\n",
    "connection.database"
   ]
  },
  {
   "cell_type": "markdown",
   "id": "7508940f",
   "metadata": {},
   "source": [
    "### **Task 1:**\n",
    "\n",
    "Little Lemon is running a marketing campaign this month. They need to issue a discount coupon to the top spender on daily bases. \n",
    "\n",
    "Create a stored procedure `TopSpender` that can retrieve the following:\n",
    "* the booking ID, \n",
    "* guest’s full name, \n",
    "* and the bill amount of the top spender at closing. \n",
    "* Call the procedure and print the results.  \n",
    "\n",
    "\n",
    "`Expected Output`:\n",
    "![Procedure Return 1](images/3_1.png)"
   ]
  },
  {
   "cell_type": "code",
   "execution_count": 25,
   "id": "370aafca",
   "metadata": {},
   "outputs": [
    {
     "name": "stdout",
     "output_type": "stream",
     "text": [
      "('BookingID', 'CustomerName', 'BillAmount')\n",
      "(1, 'Anna Iversen', 86)\n"
     ]
    }
   ],
   "source": [
    "top_spender_procedure = \"\"\"\n",
    "DROP PROCEDURE IF EXISTS TopSpender;\n",
    "CREATE Procedure TopSpender()\n",
    "BEGIN\n",
    "SELECT\n",
    "    O.BookingID,\n",
    "    CONCAT(B.GuestFirstName, ' ', B.GuestLastName) AS CustomerName,\n",
    "    O.BillAmount\n",
    "FROM Orders AS O\n",
    "INNER JOIN Bookings as B\n",
    "USING(BookingID)\n",
    "ORDER BY O.BillAmount DESC\n",
    "LIMIT 1;\n",
    "END\n",
    "\"\"\"\n",
    "# Execute\n",
    "cursor.execute(top_spender_procedure, multi=True)\n",
    "# call procedure\n",
    "cursor.callproc('TopSpender')\n",
    "# Stores results\n",
    "results = next(cursor.stored_results())\n",
    "print(results.column_names)\n",
    "for row in results.fetchall():\n",
    "    print(row)"
   ]
  },
  {
   "cell_type": "markdown",
   "id": "db72e028",
   "metadata": {},
   "source": [
    "### **Task 2:**\n",
    "Help little lemon to retrieve all those bookings where the guests did not appear today. Use `NoArrival` as a name for your stored procedure. \n",
    "\n",
    "* Guests not appearing is indicated as a Booking not submitting any orders .. so yeah\n",
    "\n",
    "`Expected Outuput`\n",
    "![Booking No Orders](images/3_2.png)\n",
    "\n",
    "* Now this is a good opportunity of `WHERE NOT EXISTS` type Left Join in which you want all details only in the left table and nothing that can be found in both tables\n",
    "    - Now we can set the second column in the outer SELECT to None to hard_code not billamount or use the IS NULL catch on a LEFT JOIN to get only the value that didn't have a bill_amount"
   ]
  },
  {
   "cell_type": "code",
   "execution_count": 26,
   "id": "fc3d2c46",
   "metadata": {},
   "outputs": [
    {
     "name": "stdout",
     "output_type": "stream",
     "text": [
      "('BookingID', 'BillAmount')\n",
      "(6, 'None')\n"
     ]
    }
   ],
   "source": [
    "booking_no_shows = \"\"\"\n",
    "SELECT B.BookingID, 'None' AS BillAmount\n",
    "FROM Bookings B\n",
    "WHERE NOT EXISTS (\n",
    "    SELECT 1\n",
    "    FROM Orders O\n",
    "    WHERE B.BookingID = O.BookingID\n",
    ")\n",
    "\"\"\"\n",
    "cursor.execute(booking_no_shows)\n",
    "print(cursor.column_names)\n",
    "for row in cursor.fetchall():\n",
    "    print(row)"
   ]
  },
  {
   "cell_type": "code",
   "execution_count": 29,
   "id": "835c666a",
   "metadata": {},
   "outputs": [
    {
     "name": "stdout",
     "output_type": "stream",
     "text": [
      "('BookingID', 'BillAmount')\n",
      "(6, None)\n"
     ]
    }
   ],
   "source": [
    "booking_no_shows_spc = \"\"\"\n",
    "CREATE Procedure NoArrival()\n",
    "BEGIN\n",
    "SELECT\n",
    "    B.BookingID, O.BillAmount\n",
    "FROM Bookings B\n",
    "LEFT JOIN Orders O\n",
    "USING(BookingID)\n",
    "WHERE O.BillAmount IS NULL\n",
    "ORDER BY B.BookingID;\n",
    "END\n",
    "\"\"\"\n",
    "# Execute\n",
    "cursor.execute(booking_no_shows_spc)\n",
    "# call procedure\n",
    "cursor.callproc('NoArrival')\n",
    "# Stores results\n",
    "results = next(cursor.stored_results())\n",
    "print(results.column_names)\n",
    "for row in results.fetchall():\n",
    "    print(row)"
   ]
  },
  {
   "cell_type": "markdown",
   "id": "803c973d",
   "metadata": {},
   "source": [
    "### **Task 3:**\n",
    "\n",
    "It is very important for little lemon to keep track of the status of each guest’s order and display it on the screen to keep their guests informed. \n",
    "\n",
    "This is how they categorize the orders:\n",
    "* If not assigned to any employee, the status is In Queue\n",
    "* If assigned to the employees with IDs 4 and 5, the status is Preparing Order\n",
    "* If assigned to the employees with IDs 1, 2, and 3, the status is Order Served\n",
    "\n",
    "\n",
    "* Create a stored procedure named `OrderStatus` for the above task and call to check if everything is working.\n",
    "\n",
    "![Case Procedure](images/3_3.png)"
   ]
  },
  {
   "cell_type": "code",
   "execution_count": 30,
   "id": "0de61b5f",
   "metadata": {},
   "outputs": [
    {
     "name": "stdout",
     "output_type": "stream",
     "text": [
      "('BookingID', 'Status')\n",
      "(1, 'Order Served')\n",
      "(2, 'Order Served')\n",
      "(3, 'Order Served')\n",
      "(4, 'Preparing Order')\n",
      "(5, 'Order Served')\n",
      "(6, 'Preparing Order')\n"
     ]
    }
   ],
   "source": [
    "employee_assignment = \"\"\"\n",
    "CREATE PROCEDURE OrderStatus()\n",
    "BEGIN\n",
    "SELECT \n",
    "    BookingID,\n",
    "    CASE\n",
    "        WHEN EmployeeID in (1, 2, 3) THEN 'Order Served'\n",
    "        WHEN EmployeeID in (4, 5) THEN 'Preparing Order'\n",
    "        ELSE 'In Que'\n",
    "    END AS Status\n",
    "FROM Bookings;\n",
    "END\n",
    "\"\"\"\n",
    "# execute \n",
    "cursor.execute(employee_assignment)\n",
    "# call procedure\n",
    "cursor.callproc('OrderStatus')\n",
    "# store results\n",
    "results = next(cursor.stored_results())\n",
    "print(results.column_names)\n",
    "for order_status in results:\n",
    "    print(order_status)"
   ]
  }
 ],
 "metadata": {
  "kernelspec": {
   "display_name": "Python 3 (ipykernel)",
   "language": "python",
   "name": "python3"
  },
  "language_info": {
   "codemirror_mode": {
    "name": "ipython",
    "version": 3
   },
   "file_extension": ".py",
   "mimetype": "text/x-python",
   "name": "python",
   "nbconvert_exporter": "python",
   "pygments_lexer": "ipython3",
   "version": "3.9.12"
  }
 },
 "nbformat": 4,
 "nbformat_minor": 5
}
