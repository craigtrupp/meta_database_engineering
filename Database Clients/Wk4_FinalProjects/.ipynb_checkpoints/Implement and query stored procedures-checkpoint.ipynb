{
 "cells": [
  {
   "cell_type": "markdown",
   "id": "d2d91f48",
   "metadata": {},
   "source": [
    "### **Tasks Review and Procedure Creation**\n",
    "\n",
    "In this exercise you must create a `pool of connection`s and` get a connection from the pool` to implement the stored procedures to complete the following tasks:\n",
    "* Close the pool after !\n",
    "\n",
    "#### `Tasks`\n",
    "* Establish a connection by importing `MySQLConnectionPool` and creating a pool with two connections.\n",
    "\n",
    "* Create and call a stored procedure named `PeakHour`s that identifies the peak, or busiest hour, for the restaurant based on the number of bookings.\n",
    "\n",
    "* Create and call a stored procedure named `GuestStatus` that outputs status of each guest’s order based on which employee is assigned to the order.\n",
    "\n",
    "`Stored Procedures`\n",
    "Stored procedures are created to carry out routine operations on MySQL databases. They are consistent and make sure that the written SQL queries in the procedures are executed in the same way every time you call the stored procedure.\n",
    "\n",
    "A stored procedure is created only once, and you store it in the MySQL database. You can call the stored procedures as many times as you need in your Python-based application."
   ]
  },
  {
   "cell_type": "code",
   "execution_count": 2,
   "id": "4fa81a6f",
   "metadata": {},
   "outputs": [
    {
     "name": "stdout",
     "output_type": "stream",
     "text": [
      "The connection pool is created with a name:  pool_a\n",
      "The pool size is: 2\n"
     ]
    }
   ],
   "source": [
    "from mysql.connector.pooling import MySQLConnectionPool\n",
    "from mysql.connector import Error\n",
    "\n",
    "db_config = {\n",
    "    'database': 'little_lemon_db',\n",
    "    'user': 'root',\n",
    "    'password': ''\n",
    "}\n",
    "\n",
    "try:\n",
    "    pool_a = MySQLConnectionPool(pool_name = \"pool_a\",\n",
    "                           pool_size = 2, #default is 5\n",
    "                           **db_config) # unpack argument in dictionary\n",
    "    \n",
    "    print(\"The connection pool is created with a name: \",pool_a.pool_name)\n",
    "    print(\"The pool size is:\",pool_a.pool_size)\n",
    "\n",
    "except Error as er:\n",
    "    print(\"Error code:\", er.errno)\n",
    "    print(\"Error message:\", er.msg)\n",
    "\n",
    "\n",
    "# Get connection & Create Cursor\n",
    "procedure_connection = pool_a.get_connection()\n",
    "procedure_cursor = procedure_connection.cursor()"
   ]
  },
  {
   "cell_type": "markdown",
   "id": "05f9e8f4",
   "metadata": {},
   "source": [
    "### **Task 2: Implement `Peak Hours` Procedure**"
   ]
  },
  {
   "cell_type": "code",
   "execution_count": 4,
   "id": "6ab11605",
   "metadata": {},
   "outputs": [
    {
     "name": "stdout",
     "output_type": "stream",
     "text": [
      "('Booking_Hour', 'bookings_for_hour')\n",
      "(19, 2)\n",
      "(15, 1)\n",
      "(17, 1)\n",
      "(18, 1)\n",
      "(20, 1)\n"
     ]
    }
   ],
   "source": [
    "peak_hours_query = \"\"\"\n",
    "CREATE PROCEDURE PeakHours()\n",
    "BEGIN\n",
    "    SELECT\n",
    "        HOUR(BookingSlot) AS Booking_Hour,\n",
    "        COUNT(*) AS bookings_for_hour\n",
    "    FROM Bookings\n",
    "    GROUP BY Booking_Hour\n",
    "    ORDER BY bookings_for_hour DESC;\n",
    "END\n",
    "\"\"\"\n",
    "# run query to create procuedure\n",
    "procedure_cursor.execute(peak_hours_query)\n",
    "# Call procedure\n",
    "procedure_cursor.callproc('PeakHours')\n",
    "# stores results in a variable called dataset\n",
    "dataset = next(procedure_cursor.stored_results())\n",
    "# column_names\n",
    "print(dataset.column_names)\n",
    "# Print sorted data with for loop\n",
    "for row in dataset.fetchall():\n",
    "    print(row)"
   ]
  },
  {
   "cell_type": "markdown",
   "id": "0661ca59",
   "metadata": {},
   "source": [
    "### **Task 3: Implement a stored procedure `GuestStatus`**"
   ]
  },
  {
   "cell_type": "code",
   "execution_count": 6,
   "id": "b3592c1e",
   "metadata": {},
   "outputs": [
    {
     "name": "stdout",
     "output_type": "stream",
     "text": [
      "('guest_name', 'guest_order_status')\n",
      "('Anna Iversen', 'Ready to pay')\n",
      "('Joakim Iversen', 'Ready to pay')\n",
      "('Vanessa McCarthy', 'Ready to serve')\n",
      "('Marcos Romero', 'Preparing Order')\n",
      "('Hiroki Yamane', 'Ready to pay')\n",
      "('Diana Pinto', 'Order served')\n"
     ]
    }
   ],
   "source": [
    "guest_status_query = \"\"\"\n",
    "CREATE PROCEDURE GuestStatus()\n",
    "BEGIN\n",
    "    SELECT\n",
    "        CONCAT(B.GuestFirstName, ' ', B.GuestLastName) AS guest_name,\n",
    "        CASE\n",
    "            WHEN E.Role in ('Manager', 'Assistant Manager') THEN 'Ready to pay'\n",
    "            WHEN E.Role = 'Head Chef' THEN 'Ready to serve'\n",
    "            WHEN E.Role = 'Assistant Chef' THEN 'Preparing Order'\n",
    "            WHEN E.Role = 'Head Waiter' THEN 'Order served'\n",
    "            ELSE 'No Status'\n",
    "        END AS guest_order_status\n",
    "    FROM Bookings AS B\n",
    "    LEFT JOIN Employees AS E\n",
    "    USING(EmployeeID);\n",
    "END\n",
    "\"\"\"\n",
    "# run query to create procuedure\n",
    "procedure_cursor.execute(guest_status_query)\n",
    "# Call procedure\n",
    "procedure_cursor.callproc('GuestStatus')\n",
    "# stores results in a variable called dataset\n",
    "dataset = next(procedure_cursor.stored_results())\n",
    "# column_names\n",
    "print(dataset.column_names)\n",
    "# Print sorted data with for loop\n",
    "for row in dataset.fetchall():\n",
    "    print(row)"
   ]
  },
  {
   "cell_type": "code",
   "execution_count": 7,
   "id": "8d9a2238",
   "metadata": {},
   "outputs": [
    {
     "name": "stdout",
     "output_type": "stream",
     "text": [
      "\n",
      "Returning the connection back to the pool.\n",
      "The connection is placed back into the pool for the next user to connect.\n"
     ]
    }
   ],
   "source": [
    "print(\"\\nReturning the connection back to the pool.\")\n",
    "procedure_connection.close()\n",
    "print(\"The connection is placed back into the pool for the next user to connect.\")"
   ]
  }
 ],
 "metadata": {
  "kernelspec": {
   "display_name": "Python 3 (ipykernel)",
   "language": "python",
   "name": "python3"
  },
  "language_info": {
   "codemirror_mode": {
    "name": "ipython",
    "version": 3
   },
   "file_extension": ".py",
   "mimetype": "text/x-python",
   "name": "python",
   "nbconvert_exporter": "python",
   "pygments_lexer": "ipython3",
   "version": "3.9.12"
  }
 },
 "nbformat": 4,
 "nbformat_minor": 5
}
