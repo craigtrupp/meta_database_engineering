{
 "cells": [
  {
   "cell_type": "markdown",
   "id": "f03c8aa9",
   "metadata": {},
   "source": [
    "### **Task 1:**\n",
    "\n",
    "Complete the following steps to establish a connection pool:\n",
    "\n",
    "- To create a connection pool, import MySQLConnectionPool class from MySQL Connector/Python.\n",
    "\n",
    "- To find the information on the error, import the Error class from MySQL Connector/Python.\n",
    "\n",
    "- Define your database configurations as a Python dictionary object called dbconfig.\n",
    "\n",
    "- Establish a connection pool [pool_name = pool_b] with two connections. \n",
    "\n",
    "- Implement error handling using a try-except block in case the connection fails. "
   ]
  },
  {
   "cell_type": "code",
   "execution_count": 1,
   "id": "0d629ec4",
   "metadata": {},
   "outputs": [
    {
     "name": "stdout",
     "output_type": "stream",
     "text": [
      "The connection pool is created with a name:  pool_b\n",
      "The pool size is: 2\n"
     ]
    }
   ],
   "source": [
    "from mysql.connector.pooling import MySQLConnectionPool\n",
    "from mysql.connector import Error\n",
    "\n",
    "dbconfig = {\n",
    "    'database': 'little_lemon_db',\n",
    "    'user': 'root',\n",
    "    'password': ''\n",
    "}\n",
    "\n",
    "def create_pool():\n",
    "    try:\n",
    "        pool = MySQLConnectionPool(pool_name = \"pool_b\",\n",
    "                               pool_size = 2, #default is 5\n",
    "                               **dbconfig) # unpack argument in dictionary\n",
    "        print(\"The connection pool is created with a name: \",pool.pool_name)\n",
    "        print(\"The pool size is:\",pool.pool_size)\n",
    "        return pool\n",
    "    except Error as er:\n",
    "        print(\"Error code:\", er.errno)\n",
    "        print(\"Error message:\", er.msg)\n",
    "\n",
    "open_pool = create_pool()"
   ]
  },
  {
   "cell_type": "markdown",
   "id": "74e020e9",
   "metadata": {},
   "source": [
    "### **Task 2:**\n",
    "\n",
    "- `Three` guests are trying to book dinner slots simultaneously. \n",
    "    - Get the connections from pool_b and insert the following data in the Bookings table:\n",
    "\n",
    "TIP: You need to add a connection to connect the third guest.\n",
    "\n",
    "#### **Task Notes**\n",
    "* Creating a helper function for insertion and connection closing\n",
    "    - `Note`: Getting the datetime object and strings was a bit of a pain but got familiar with the dateutil.parser\n",
    "    - Can likely just pass the string in my format statement but was a good exercise to get familiar with fun insertion errors .. sigh"
   ]
  },
  {
   "cell_type": "code",
   "execution_count": 2,
   "id": "fa7a88bb",
   "metadata": {},
   "outputs": [
    {
     "name": "stdout",
     "output_type": "stream",
     "text": [
      "\n",
      "    INSERT INTO Bookings\n",
      "    VALUES (7, 8, 'Anees', 'Java', '18:00:00', 6);\n",
      "    \n",
      "\n",
      "    INSERT INTO Bookings\n",
      "    VALUES (8, 5, 'Bald', 'Vin', '19:00:00', 6);\n",
      "    \n",
      "\n",
      "    INSERT INTO Bookings\n",
      "    VALUES (9, 12, 'Jay', 'Kon', '19:30:00', 6);\n",
      "    \n"
     ]
    }
   ],
   "source": [
    "from dateutil.parser import parse\n",
    "\n",
    "guest_details = [\n",
    "    (7, 8, 'Anees', 'Java', '18:00:00', 6),\n",
    "    (8, 5, 'Bald', 'Vin', '19:00:00', 6),\n",
    "    (9, 12, 'Jay', 'Kon', '19:30:00', 6)\n",
    "]\n",
    "\n",
    "def insert_guest_test(guest):\n",
    "    # Strings have to be encapsulated when sending\n",
    "    insert_query_guest_stmt = \"\"\"\n",
    "    INSERT INTO Bookings\n",
    "    VALUES ({}, {}, '{}', '{}', '{}', {});\n",
    "    \"\"\".format(guest[0], guest[1], guest[2], guest[3], parse(guest[4]).strftime('%H:%M:%S'), guest[5])\n",
    "    print(insert_query_guest_stmt)\n",
    "    \n",
    "for guest in guest_details:\n",
    "    insert_guest_test(guest)\n",
    "    \n",
    "def insert_guest(guest):\n",
    "    insert_query_guest_stmt = \"\"\"\n",
    "    INSERT INTO Bookings\n",
    "    VALUES ({}, {}, '{}', '{}', '{}', {});\n",
    "    \"\"\".format(guest[0], guest[1], guest[2], guest[3], parse(guest[4]).strftime('%H:%M:%S'), guest[5])\n",
    "    return insert_query_guest_stmt\n",
    "\n",
    "def close_connections(conn_list):\n",
    "    for conn in conn_list:\n",
    "        try:\n",
    "            conn.close()\n",
    "        except Error as e:\n",
    "            print('Error code: ', e.errno)\n",
    "            print('Error message: ', e.msg)"
   ]
  },
  {
   "cell_type": "code",
   "execution_count": 3,
   "id": "418beaaa",
   "metadata": {},
   "outputs": [
    {
     "name": "stdout",
     "output_type": "stream",
     "text": [
      "Connection open for : user_connection_1\n",
      "Connection open for : user_connection_2\n",
      "Failed getting connection; pool exhausted Failed getting connection; pool exhausted\n",
      "For new user attempted connection : 3\n",
      "New added connection for : user_connection_3\n"
     ]
    }
   ],
   "source": [
    "# Now need use try_except handling for insertion based on if new connection available\n",
    "# active connections (will close at end of cell)\n",
    "connections = []\n",
    "for idx, tup in enumerate(guest_details):\n",
    "    try:\n",
    "        db_pool_user = f'user_connection_{idx + 1}'\n",
    "        db_pool_user_connection = open_pool.get_connection()\n",
    "        print(f'Connection open for : {db_pool_user}')\n",
    "        # append open connection for subsequent closing following guest table insertion\n",
    "        connections.append(db_pool_user_connection)\n",
    "        # create cursor\n",
    "        db_pool_user_cursor = db_pool_user_connection.cursor()\n",
    "        # execute query after formatting string with helper function\n",
    "        db_pool_user_cursor.execute(insert_guest(tup))\n",
    "        # commit to database\n",
    "        db_pool_user_connection.commit()\n",
    "    except Error as e:\n",
    "        print(e, e.msg) # capture error message\n",
    "        print(f'For new user attempted connection : {idx + 1}')\n",
    "        # above is our prints outs for the error message and which new user attempt it failed on, add connection\n",
    "        open_pool.add_connection()\n",
    "        db_newc_usr_conn = open_pool.get_connection()\n",
    "        print(f'New added connection for : user_connection_{idx + 1}')\n",
    "        # append new open connection\n",
    "        connections.append(db_newc_usr_conn)\n",
    "        # create cursor\n",
    "        db_newc_usr_cursor = db_newc_usr_conn.cursor()\n",
    "        # execute query w/helper function\n",
    "        db_newc_usr_cursor.execute(insert_guest(tup))\n",
    "        # commit to database\n",
    "        db_newc_usr_conn.commit()"
   ]
  },
  {
   "cell_type": "code",
   "execution_count": 5,
   "id": "a2996503",
   "metadata": {},
   "outputs": [
    {
     "name": "stdout",
     "output_type": "stream",
     "text": [
      "Error code:  -1\n",
      "Error message:  Failed adding connection; queue is full\n"
     ]
    }
   ],
   "source": [
    "# Close Connections\n",
    "close_connections(connections)"
   ]
  },
  {
   "cell_type": "markdown",
   "id": "9b1e740a",
   "metadata": {},
   "source": [
    "### End of Task 2\n",
    "- The closing of the connections seems to be a bit odd with the mysqlconnector-pool\n",
    "- Function from Class in Github \n",
    "```python\n",
    "    def close(self):\n",
    "        \"\"\"Do not close, but add connection back to pool\n",
    "\n",
    "        The close() method does not close the connection with the\n",
    "        MySQL server. The connection is added back to the pool so it\n",
    "        can be reused.\n",
    "        \"\"\"\n",
    "        self._cnx_pool.add_connection(self._cnx)\n",
    "        self._cnx = None\n",
    "```\n",
    "* Insertions were made however and although ... likely unnecessary the format statement for the insertion was able to use another item of likely future db usage (date util parser for help in formatting accepted values for a date column in a table"
   ]
  },
  {
   "cell_type": "code",
   "execution_count": null,
   "id": "1fa54fac",
   "metadata": {},
   "outputs": [],
   "source": []
  }
 ],
 "metadata": {
  "kernelspec": {
   "display_name": "Python 3 (ipykernel)",
   "language": "python",
   "name": "python3"
  },
  "language_info": {
   "codemirror_mode": {
    "name": "ipython",
    "version": 3
   },
   "file_extension": ".py",
   "mimetype": "text/x-python",
   "name": "python",
   "nbconvert_exporter": "python",
   "pygments_lexer": "ipython3",
   "version": "3.9.12"
  }
 },
 "nbformat": 4,
 "nbformat_minor": 5
}
