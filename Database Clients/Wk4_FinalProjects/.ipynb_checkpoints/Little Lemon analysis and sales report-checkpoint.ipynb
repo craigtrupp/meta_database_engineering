{
 "cells": [
  {
   "cell_type": "markdown",
   "id": "abe187d6",
   "metadata": {},
   "source": [
    "### **Task 1:**\n",
    "\n",
    "Complete the following steps to establish a connection pool:\n",
    "\n",
    "- To create a connection pool, import MySQLConnectionPool class from MySQL Connector/Python.\n",
    "\n",
    "- To find the information on the error, import the Error class from MySQL Connector/Python.\n",
    "\n",
    "- Define your database configurations as a Python dictionary object called dbconfig.\n",
    "\n",
    "- Establish a connection pool [pool_name = pool_b] with two connections. \n",
    "\n",
    "- Implement error handling using a try-except block in case the connection fails. "
   ]
  },
  {
   "cell_type": "code",
   "execution_count": 1,
   "id": "a40f50e4",
   "metadata": {},
   "outputs": [
    {
     "name": "stdout",
     "output_type": "stream",
     "text": [
      "The connection pool is created with a name:  pool_b\n",
      "The pool size is: 2\n"
     ]
    }
   ],
   "source": [
    "from mysql.connector.pooling import MySQLConnectionPool\n",
    "from mysql.connector import Error\n",
    "\n",
    "dbconfig = {\n",
    "    'database': 'little_lemon_db',\n",
    "    'user': 'root',\n",
    "    'password': ''\n",
    "}\n",
    "\n",
    "def create_pool():\n",
    "    try:\n",
    "        pool = MySQLConnectionPool(pool_name = \"pool_b\",\n",
    "                               pool_size = 2, #default is 5\n",
    "                               **dbconfig) # unpack argument in dictionary\n",
    "        print(\"The connection pool is created with a name: \",pool.pool_name)\n",
    "        print(\"The pool size is:\",pool.pool_size)\n",
    "        return pool\n",
    "    except Error as er:\n",
    "        print(\"Error code:\", er.errno)\n",
    "        print(\"Error message:\", er.msg)\n",
    "\n",
    "open_pool = create_pool()"
   ]
  },
  {
   "cell_type": "markdown",
   "id": "8e9ad583",
   "metadata": {},
   "source": [
    "### **Task 2:**\n",
    "\n",
    "- `Three` guests are trying to book dinner slots simultaneously. \n",
    "    - Get the connections from pool_b and insert the following data in the Bookings table:\n",
    "\n",
    "TIP: You need to add a connection to connect the third guest.\n",
    "\n",
    "#### **Task Notes**\n",
    "* Creating a helper function for insertion and connection closing\n",
    "    - `Note`: Getting the datetime object and strings was a bit of a pain but got familiar with the dateutil.parser\n",
    "    - Can likely just pass the string in my format statement but was a good exercise to get familiar with fun insertion errors .. sigh"
   ]
  },
  {
   "cell_type": "code",
   "execution_count": 2,
   "id": "74a46ca6",
   "metadata": {},
   "outputs": [
    {
     "name": "stdout",
     "output_type": "stream",
     "text": [
      "\n",
      "    INSERT INTO Bookings\n",
      "    VALUES (7, 8, 'Anees', 'Java', '18:00:00', 6);\n",
      "    \n",
      "\n",
      "    INSERT INTO Bookings\n",
      "    VALUES (8, 5, 'Bald', 'Vin', '19:00:00', 6);\n",
      "    \n",
      "\n",
      "    INSERT INTO Bookings\n",
      "    VALUES (9, 12, 'Jay', 'Kon', '19:30:00', 6);\n",
      "    \n"
     ]
    }
   ],
   "source": [
    "from dateutil.parser import parse\n",
    "\n",
    "guest_details = [\n",
    "    (7, 8, 'Anees', 'Java', '18:00:00', 6),\n",
    "    (8, 5, 'Bald', 'Vin', '19:00:00', 6),\n",
    "    (9, 12, 'Jay', 'Kon', '19:30:00', 6)\n",
    "]\n",
    "\n",
    "def insert_guest_test(guest):\n",
    "    # Strings have to be encapsulated when sending\n",
    "    insert_query_guest_stmt = \"\"\"\n",
    "    INSERT INTO Bookings\n",
    "    VALUES ({}, {}, '{}', '{}', '{}', {});\n",
    "    \"\"\".format(guest[0], guest[1], guest[2], guest[3], parse(guest[4]).strftime('%H:%M:%S'), guest[5])\n",
    "    print(insert_query_guest_stmt)\n",
    "    \n",
    "for guest in guest_details:\n",
    "    insert_guest_test(guest)\n",
    "    \n",
    "def insert_guest(guest):\n",
    "    insert_query_guest_stmt = \"\"\"\n",
    "    INSERT INTO Bookings\n",
    "    VALUES ({}, {}, '{}', '{}', '{}', {});\n",
    "    \"\"\".format(guest[0], guest[1], guest[2], guest[3], parse(guest[4]).strftime('%H:%M:%S'), guest[5])\n",
    "    return insert_query_guest_stmt\n",
    "\n",
    "def close_connections(conn_list):\n",
    "    for conn in conn_list:\n",
    "        try:\n",
    "            conn.close()\n",
    "        except Error as e:\n",
    "            print('Error code: ', e.errno)\n",
    "            print('Error message: ', e.msg)"
   ]
  },
  {
   "cell_type": "code",
   "execution_count": 3,
   "id": "a17cb03a",
   "metadata": {},
   "outputs": [
    {
     "name": "stdout",
     "output_type": "stream",
     "text": [
      "Connection open for : user_connection_1\n",
      "Connection open for : user_connection_2\n",
      "Failed getting connection; pool exhausted Failed getting connection; pool exhausted\n",
      "For new user attempted connection : 3\n",
      "New added connection for : user_connection_3\n"
     ]
    }
   ],
   "source": [
    "# Now need use try_except handling for insertion based on if new connection available\n",
    "# active connections (will close at end of cell)\n",
    "connections = []\n",
    "for idx, tup in enumerate(guest_details):\n",
    "    try:\n",
    "        db_pool_user = f'user_connection_{idx + 1}'\n",
    "        db_pool_user_connection = open_pool.get_connection()\n",
    "        print(f'Connection open for : {db_pool_user}')\n",
    "        # append open connection for subsequent closing following guest table insertion\n",
    "        connections.append(db_pool_user_connection)\n",
    "        # create cursor\n",
    "        db_pool_user_cursor = db_pool_user_connection.cursor()\n",
    "        # execute query after formatting string with helper function\n",
    "        db_pool_user_cursor.execute(insert_guest(tup))\n",
    "        # commit to database\n",
    "        db_pool_user_connection.commit()\n",
    "    except Error as e:\n",
    "        print(e, e.msg) # capture error message\n",
    "        print(f'For new user attempted connection : {idx + 1}')\n",
    "        # above is our prints outs for the error message and which new user attempt it failed on, add connection\n",
    "        open_pool.add_connection()\n",
    "        db_newc_usr_conn = open_pool.get_connection()\n",
    "        print(f'New added connection for : user_connection_{idx + 1}')\n",
    "        # append new open connection\n",
    "        connections.append(db_newc_usr_conn)\n",
    "        # create cursor\n",
    "        db_newc_usr_cursor = db_newc_usr_conn.cursor()\n",
    "        # execute query w/helper function\n",
    "        db_newc_usr_cursor.execute(insert_guest(tup))\n",
    "        # commit to database\n",
    "        db_newc_usr_conn.commit()"
   ]
  },
  {
   "cell_type": "code",
   "execution_count": 5,
   "id": "536c46d1",
   "metadata": {},
   "outputs": [
    {
     "name": "stdout",
     "output_type": "stream",
     "text": [
      "Error code:  -1\n",
      "Error message:  Failed adding connection; queue is full\n"
     ]
    }
   ],
   "source": [
    "# Close Connections\n",
    "close_connections(connections)"
   ]
  },
  {
   "cell_type": "markdown",
   "id": "6d94b88c",
   "metadata": {},
   "source": [
    "### End of Task 2\n",
    "- The closing of the connections seems to be a bit odd with the mysqlconnector-pool\n",
    "- Function from Class in Github \n",
    "```python\n",
    "    def close(self):\n",
    "        \"\"\"Do not close, but add connection back to pool\n",
    "\n",
    "        The close() method does not close the connection with the\n",
    "        MySQL server. The connection is added back to the pool so it\n",
    "        can be reused.\n",
    "        \"\"\"\n",
    "        self._cnx_pool.add_connection(self._cnx)\n",
    "        self._cnx = None\n",
    "```\n",
    "* Insertions were made however and although ... likely unnecessary the format statement for the insertion was able to use another item of likely future db usage (date util parser for help in formatting accepted values for a date column in a table"
   ]
  },
  {
   "cell_type": "markdown",
   "id": "3d07e2e1",
   "metadata": {},
   "source": [
    "### **Task 3**\n",
    "Create a report containing the following information:\n",
    "- The `name` and `EmployeeI`D of the Little Lemon manager.\n",
    "- The `name` and `role` of the employee who receives the highest salary.\n",
    "- The `number of guests` booked between 18:00 and 20:00.\n",
    "- The `full name` and `BookingID` of all guests waiting to be seated with the receptionist in sorted order with respect to their BookingSlot\n",
    "\n",
    "#### `Report Details`\n",
    "* Each report is in itself an individual query that will be put in subsequent cells for the report query and return from the cursor"
   ]
  },
  {
   "cell_type": "code",
   "execution_count": 9,
   "id": "fa2ee771",
   "metadata": {},
   "outputs": [],
   "source": [
    "# Task 3.1 - Name and EmployeeID of the Little Lemon Manager\n",
    "# First we need a connection to the db however\n",
    "try:\n",
    "    report_gen_conn = open_pool.get_connection()\n",
    "    report_gen_conn\n",
    "except Error as e:\n",
    "    print(e)"
   ]
  },
  {
   "cell_type": "code",
   "execution_count": 12,
   "id": "4fa09ba8",
   "metadata": {},
   "outputs": [
    {
     "name": "stdout",
     "output_type": "stream",
     "text": [
      "Here is our Report for the First Rquest in Task 3\n",
      "('Name', 'EmployeeID')\n",
      "('Mario Gollini', 1)\n"
     ]
    }
   ],
   "source": [
    "# create cursor\n",
    "report_gen_conn_cursor = report_gen_conn.cursor()\n",
    "# generate query\n",
    "name_empid_manager_stmt = \"\"\"\n",
    "SELECT\n",
    "    Name, EmployeeID\n",
    "FROM Employees\n",
    "WHERE Role = 'Manager';\n",
    "\"\"\"\n",
    "# execute query\n",
    "report_gen_conn_cursor.execute(name_empid_manager_stmt)\n",
    "# print columns and report\n",
    "print('Here is our Report for the First Rquest in Task 3')\n",
    "print(report_gen_conn_cursor.column_names)\n",
    "for row in report_gen_conn_cursor.fetchall():\n",
    "    print(row)"
   ]
  },
  {
   "cell_type": "code",
   "execution_count": 13,
   "id": "26c2b00e",
   "metadata": {},
   "outputs": [
    {
     "name": "stdout",
     "output_type": "stream",
     "text": [
      "Here is our Report for the Second Request in Task 3\n",
      "('Name', 'Role')\n",
      "('Mario Gollini', 'Manager')\n"
     ]
    }
   ],
   "source": [
    "# Task 3.2 - Name & Role of employee who receives the highest salary\n",
    "name_role_max_sal_stmt = \"\"\"\n",
    "SELECT \n",
    "    Name, Role\n",
    "FROM Employees\n",
    "WHERE Annual_Salary = (SELECT MAX(Annual_Salary) FROM Employees);\n",
    "\"\"\"\n",
    "# execute query\n",
    "report_gen_conn_cursor.execute(name_role_max_sal_stmt)\n",
    "# print columns and report\n",
    "print('Here is our Report for the Second Request in Task 3')\n",
    "print(report_gen_conn_cursor.column_names)\n",
    "for row in report_gen_conn_cursor.fetchall():\n",
    "    print(row)"
   ]
  },
  {
   "cell_type": "code",
   "execution_count": 15,
   "id": "a1d578fc",
   "metadata": {},
   "outputs": [
    {
     "name": "stdout",
     "output_type": "stream",
     "text": [
      "Here is our Report for the Third Request in Task 3\n",
      "num_guests\n",
      "7\n"
     ]
    }
   ],
   "source": [
    "# Task 3.3 - Number of Guests booked between 18:00 and 20:00\n",
    "num_guests_window_stmt = \"\"\"\n",
    "SELECT\n",
    "    COUNT(*) AS num_guests\n",
    "FROM Bookings\n",
    "WHERE BookingSlot BETWEEN '18:00:00' AND '20:00:00'\n",
    "\"\"\"\n",
    "# execute query\n",
    "report_gen_conn_cursor.execute(num_guests_window_stmt)\n",
    "# print columns and report\n",
    "print('Here is our Report for the Third Request in Task 3')\n",
    "print(report_gen_conn_cursor.column_names[0]) # just need the first one \n",
    "for row in report_gen_conn_cursor.fetchall():\n",
    "    print(row[0]) # only one value so can index first value"
   ]
  },
  {
   "cell_type": "code",
   "execution_count": 16,
   "id": "c25f72c2",
   "metadata": {},
   "outputs": [
    {
     "name": "stdout",
     "output_type": "stream",
     "text": [
      "Here is our Report for the Fourth Request in Task 3\n",
      "('guest_full_name', 'BookingID')\n",
      "('Anees Java', 7)\n",
      "('Bald Vin', 8)\n",
      "('Jay Kon', 9)\n"
     ]
    }
   ],
   "source": [
    "# Task 3.4 - Full Name & BookingiD of guest waiting to be seated\n",
    "# EmployeeID == 6 'Receptionist', will sort in chronological order \n",
    "guest_to_be_seated_chron_stmt = \"\"\"\n",
    "SELECT\n",
    "    CONCAT(GuestFirstName, ' ', GuestLastName) AS guest_full_name,\n",
    "    BookingID\n",
    "FROM Bookings\n",
    "WHERE EmployeeID = 6\n",
    "ORDER BY BookingSlot;\n",
    "\"\"\"\n",
    "# execute query\n",
    "report_gen_conn_cursor.execute(guest_to_be_seated_chron_stmt)\n",
    "# print columns and report\n",
    "print('Here is our Report for the Fourth Request in Task 3')\n",
    "print(report_gen_conn_cursor.column_names)\n",
    "for row in report_gen_conn_cursor.fetchall():\n",
    "    print(row) "
   ]
  },
  {
   "cell_type": "markdown",
   "id": "87ed0c7b",
   "metadata": {},
   "source": [
    "### **Task 4**\n",
    "Create a stored procedure named BasicSalesReport that returns the following statistics: \n",
    "- Total sales\n",
    "- Average sale\n",
    "- Minimum bill paid\n",
    "- Maximum bill paid"
   ]
  },
  {
   "cell_type": "code",
   "execution_count": 17,
   "id": "619253c5",
   "metadata": {},
   "outputs": [
    {
     "name": "stdout",
     "output_type": "stream",
     "text": [
      "('total_sales', 'average_sale', 'min_bill_paid', 'max_bill_paid')\n",
      "(5, Decimal('48.60'), 37, 86)\n"
     ]
    }
   ],
   "source": [
    "sp_bsr_stmt = \"\"\"\n",
    "CREATE PROCEDURE BasicSalesReport()\n",
    "BEGIN\n",
    "    SELECT\n",
    "        COUNT(*) AS total_sales,\n",
    "        ROUND(AVG(BillAmount),2) AS average_sale,\n",
    "        MIN(BillAmount) AS min_bill_paid,\n",
    "        MAX(BillAmount) AS max_bill_paid\n",
    "    FROM Orders;\n",
    "END\n",
    "\"\"\"\n",
    "# run query to create procuedure\n",
    "report_gen_conn_cursor.execute(sp_bsr_stmt)\n",
    "# Call procedure\n",
    "report_gen_conn_cursor.callproc('BasicSalesReport')\n",
    "# stores results in a variable called dataset\n",
    "dataset = next(report_gen_conn_cursor.stored_results())\n",
    "# column_names\n",
    "print(dataset.column_names)\n",
    "# Print sorted data with for loop\n",
    "for row in dataset.fetchall():\n",
    "    print(row)"
   ]
  },
  {
   "cell_type": "code",
   "execution_count": null,
   "id": "2489bed3",
   "metadata": {},
   "outputs": [],
   "source": []
  }
 ],
 "metadata": {
  "kernelspec": {
   "display_name": "Python 3 (ipykernel)",
   "language": "python",
   "name": "python3"
  },
  "language_info": {
   "codemirror_mode": {
    "name": "ipython",
    "version": 3
   },
   "file_extension": ".py",
   "mimetype": "text/x-python",
   "name": "python",
   "nbconvert_exporter": "python",
   "pygments_lexer": "ipython3",
   "version": "3.9.12"
  }
 },
 "nbformat": 4,
 "nbformat_minor": 5
}
