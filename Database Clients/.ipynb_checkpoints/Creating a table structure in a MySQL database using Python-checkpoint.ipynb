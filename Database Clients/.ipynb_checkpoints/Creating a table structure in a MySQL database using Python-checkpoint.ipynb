{
 "cells": [
  {
   "cell_type": "markdown",
   "id": "ab23ba94",
   "metadata": {},
   "source": [
    "### Generic guidelines:\n",
    "\n",
    "`Prerequisites`:\n",
    "\n",
    "To complete this exercise, you must have access to the MySQL database. As an authorized user, you need to establish a connection between Python and MySQL via the connector API and create a cursor object using the following code:\n",
    "\n",
    "#### **Learning objectives:**\n",
    "* Execute SQL queries to create a database and tables in MySQL using Python.\n",
    "* Organize and structure tables in a MySQL database using Python.\n",
    "\n",
    "\n",
    "`Scenario:`\n",
    "Little Lemon needs a Python-based application in which they can organize their data within different tables in a MySQL database.\n",
    "\n",
    "First, they need to create their database. Then they need to create the database’s tables.  \n",
    "\n",
    "The list of tables they need to create are as follows: \n",
    "* A table called Menu that stores menu data \n",
    "* A table called MenuItems that stores data on menu items \n",
    "* A table called Orders that stores data on customer orders \n",
    "* And a table called Bookings that stores data on customer bookings \n",
    "\n",
    "Complete the tasks that follow to help Little Lemon create the database and the tables.    "
   ]
  },
  {
   "cell_type": "markdown",
   "id": "8b614dab",
   "metadata": {},
   "source": [
    "### **Task 1:**\n",
    "* Little Lemon needs to create a database that can hold their tables. \n",
    "* Create a MySQL database for Little Lemon using Python. You can call the database `little_lemon`. \n",
    "* You also need to confirm that the database has been successfully executed using the SHOW DATABASE query"
   ]
  },
  {
   "cell_type": "code",
   "execution_count": 1,
   "id": "cd938d0f",
   "metadata": {},
   "outputs": [
    {
     "name": "stdout",
     "output_type": "stream",
     "text": [
      "Connection established!\n"
     ]
    }
   ],
   "source": [
    "import mysql.connector as connector\n",
    "\n",
    "try:\n",
    "    connection=connector.connect(user=\"root\", password=\"\")\n",
    "    print('Connection established!')\n",
    "except connector.Error as e:\n",
    "    print(f\"\"\"\n",
    "    Error code : {e.errno}\n",
    "    Error message : {e.msg}\n",
    "    \"\"\")"
   ]
  },
  {
   "cell_type": "markdown",
   "id": "f7ed775f",
   "metadata": {},
   "source": [
    "#### - Drop, Create, Show Databases in Cursor"
   ]
  },
  {
   "cell_type": "code",
   "execution_count": 2,
   "id": "eb9ac5a0",
   "metadata": {},
   "outputs": [],
   "source": [
    "# Create Cursor object to execute SQL statements\n",
    "cursor = connection.cursor()\n",
    "\n",
    "# Drop database if exists\n",
    "cursor.execute('DROP DATABASE IF EXISTS little_lemon')\n",
    "\n",
    "# Create little lemon\n",
    "cursor.execute('CREATE DATABASE little_lemon')"
   ]
  },
  {
   "cell_type": "code",
   "execution_count": 3,
   "id": "04755178",
   "metadata": {},
   "outputs": [
    {
     "name": "stdout",
     "output_type": "stream",
     "text": [
      "('automobile',)\n",
      "('information_schema',)\n",
      "('jewelrystore_db',)\n",
      "('little_lemon',)\n",
      "('Lucky_Shrub',)\n",
      "('luckyshrub_db',)\n",
      "('Mangata_Gallo',)\n",
      "('mysql',)\n",
      "('performance_schema',)\n",
      "('restaurant',)\n",
      "('soccer',)\n",
      "('sys',)\n"
     ]
    }
   ],
   "source": [
    "# Show databases to create iterable to view database\n",
    "cursor.execute('SHOW DATABASES')\n",
    "for database in cursor:\n",
    "    print(database)"
   ]
  },
  {
   "cell_type": "markdown",
   "id": "0c457967",
   "metadata": {},
   "source": [
    "### **Task 2:**\n",
    "* Set the newly created database little_lemon for use. \n",
    "* Confirm that the database is available for use by using connection.database"
   ]
  },
  {
   "cell_type": "code",
   "execution_count": 4,
   "id": "3093b4e9",
   "metadata": {},
   "outputs": [
    {
     "name": "stdout",
     "output_type": "stream",
     "text": [
      "The database in use for the current connection is : little_lemon\n"
     ]
    }
   ],
   "source": [
    "# view current database object with associated connection\\\n",
    "\n",
    "## Have to set the cursor first as right now the previous last item was the the show databases value which we iterated through\n",
    "cursor.execute('USE little_lemon')\n",
    "print(f'The database in use for the current connection is : {connection.database}')"
   ]
  },
  {
   "cell_type": "markdown",
   "id": "76b50770",
   "metadata": {},
   "source": [
    "### **Task 3**\n",
    "* Create a `MenuItems` table\n",
    "* Once you have executed the code, use the `SHOW TABLES` command to confirm that the table has been created\n",
    "    - You should just see the one table created "
   ]
  },
  {
   "cell_type": "code",
   "execution_count": 5,
   "id": "a3a28bff",
   "metadata": {},
   "outputs": [],
   "source": [
    "# Create table\n",
    "create_menu_items = \"\"\"\n",
    "CREATE Table MenuItems(\n",
    "ItemID INT AUTO_INCREMENT,\n",
    "Name VARCHAR(200),\n",
    "Type VARCHAR(100),\n",
    "Price INT,\n",
    "PRIMARY KEY (ItemID)\n",
    ");\"\"\"\n",
    "\n",
    "# execute w/cursor\n",
    "cursor.execute(create_menu_items)"
   ]
  },
  {
   "cell_type": "code",
   "execution_count": 6,
   "id": "ef6c40d3",
   "metadata": {},
   "outputs": [
    {
     "name": "stdout",
     "output_type": "stream",
     "text": [
      "('MenuItems',)\n"
     ]
    }
   ],
   "source": [
    "# SHOW tables query to execute\n",
    "cursor.execute('SHOW TABLES')\n",
    "for table in cursor:\n",
    "    print(table)"
   ]
  },
  {
   "cell_type": "markdown",
   "id": "e1e0c77f",
   "metadata": {},
   "source": [
    "### **Task 4**\n",
    "* Create the Menus table to store data on menus"
   ]
  },
  {
   "cell_type": "code",
   "execution_count": 9,
   "id": "d667acb7",
   "metadata": {},
   "outputs": [
    {
     "name": "stdout",
     "output_type": "stream",
     "text": [
      "('MenuItems',)\n",
      "('Menus',)\n"
     ]
    }
   ],
   "source": [
    "create_menu_table = \"\"\"\n",
    "CREATE TABLE Menus (\n",
    "MenuID INT,\n",
    "ItemID INT,\n",
    "Cuisine VARCHAR(100),\n",
    "PRIMARY KEY (MenuID,ItemID)\n",
    ");\"\"\"\n",
    "\n",
    "## If there are multiple sql statements in your query, select multi to True (see delimiter ; in use for each statement)\n",
    "cursor.execute(create_menu_table)\n",
    "\n",
    "# Iterate through table to see if we have multiple tables in connection object\n",
    "cursor.execute('SHOW TABLES')\n",
    "for table in cursor:\n",
    "    print(table)\n"
   ]
  },
  {
   "cell_type": "markdown",
   "id": "3dae10c9",
   "metadata": {},
   "source": [
    "### **Task 5**\n",
    "* Create the Bookings table to store data on customer bookings "
   ]
  },
  {
   "cell_type": "code",
   "execution_count": 15,
   "id": "69c16df7",
   "metadata": {},
   "outputs": [
    {
     "name": "stdout",
     "output_type": "stream",
     "text": [
      "('Bookings',)\n",
      "('MenuItems',)\n",
      "('Menus',)\n"
     ]
    }
   ],
   "source": [
    "create_booking_table = \"\"\"\n",
    "CREATE TABLE Bookings (\n",
    "BookingID INT AUTO_INCREMENT,\n",
    "TableNo INT,\n",
    "GuestFirstName VARCHAR(100) NOT NULL,\n",
    "GuestLastName VARCHAR(100) NOT NULL,\n",
    "BookingSlot TIME NOT NULL,\n",
    "EmployeeID INT,\n",
    "PRIMARY KEY (BookingID)\n",
    ");\"\"\"\n",
    "\n",
    "# Execute\n",
    "cursor.execute(create_booking_table)\n",
    "\n",
    "# Loop through tables return from recent cursor execute statement\n",
    "cursor.execute('SHOW TABLES')\n",
    "for table in cursor:\n",
    "    print(table)"
   ]
  },
  {
   "cell_type": "code",
   "execution_count": 13,
   "id": "8f595778",
   "metadata": {},
   "outputs": [
    {
     "name": "stdout",
     "output_type": "stream",
     "text": [
      "('MenuItems',)\n",
      "('Menus',)\n"
     ]
    }
   ],
   "source": [
    "cursor.execute('SHOW TABLES')\n",
    "for table in cursor:\n",
    "    print(table)"
   ]
  },
  {
   "cell_type": "markdown",
   "id": "64af9c29",
   "metadata": {},
   "source": [
    "### **Task 6**\n",
    "* Create an Orders table to store data on customer orders "
   ]
  },
  {
   "cell_type": "code",
   "execution_count": 16,
   "id": "1f2a0917",
   "metadata": {},
   "outputs": [
    {
     "name": "stdout",
     "output_type": "stream",
     "text": [
      "('Bookings',)\n",
      "('MenuItems',)\n",
      "('Menus',)\n",
      "('Orders',)\n"
     ]
    }
   ],
   "source": [
    "create_orders_table = \"\"\"CREATE TABLE Orders (\n",
    "OrderID INT,\n",
    "TableNo INT,\n",
    "MenuID INT,\n",
    "BookingID INT,\n",
    "BillAmount INT,\n",
    "Quantity INT,\n",
    "PRIMARY KEY (OrderID,TableNo)\n",
    ");\"\"\"\n",
    "\n",
    "cursor.execute(create_orders_table)\n",
    "\n",
    "# See all tables\n",
    "cursor.execute('SHOW TABLES')\n",
    "for table in cursor:\n",
    "    print(table)"
   ]
  },
  {
   "cell_type": "code",
   "execution_count": 17,
   "id": "19254e70",
   "metadata": {},
   "outputs": [],
   "source": [
    "# Close out connection and cursor instance\n",
    "cursor.close()\n",
    "connection.close()"
   ]
  },
  {
   "cell_type": "code",
   "execution_count": null,
   "id": "cabf9e60",
   "metadata": {},
   "outputs": [],
   "source": []
  }
 ],
 "metadata": {
  "kernelspec": {
   "display_name": "Python 3 (ipykernel)",
   "language": "python",
   "name": "python3"
  },
  "language_info": {
   "codemirror_mode": {
    "name": "ipython",
    "version": 3
   },
   "file_extension": ".py",
   "mimetype": "text/x-python",
   "name": "python",
   "nbconvert_exporter": "python",
   "pygments_lexer": "ipython3",
   "version": "3.9.12"
  }
 },
 "nbformat": 4,
 "nbformat_minor": 5
}
